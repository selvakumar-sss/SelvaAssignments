{
 "cells": [
  {
   "cell_type": "code",
   "execution_count": 1,
   "metadata": {
    "collapsed": true
   },
   "outputs": [],
   "source": [
    "import csv\n",
    "file =  open(\"/home/affine/Documents/data_quest/world_alco_full.csv\")\n",
    "read = csv.reader(file)\n",
    "anal_col = list(read)"
   ]
  },
  {
   "cell_type": "code",
   "execution_count": 2,
   "metadata": {
    "collapsed": false
   },
   "outputs": [
    {
     "data": {
      "text/plain": [
       "12663"
      ]
     },
     "execution_count": 2,
     "metadata": {},
     "output_type": "execute_result"
    }
   ],
   "source": [
    "row_count = len(anal_col)\n",
    "row_count"
   ]
  },
  {
   "cell_type": "code",
   "execution_count": 3,
   "metadata": {
    "collapsed": false
   },
   "outputs": [],
   "source": [
    "first_few = anal_col[0:3]"
   ]
  },
  {
   "cell_type": "code",
   "execution_count": 4,
   "metadata": {
    "collapsed": false
   },
   "outputs": [
    {
     "name": "stdout",
     "output_type": "stream",
     "text": [
      "[['GHO (CODE)', 'GHO (DISPLAY)', 'GHO (URL)', 'DATASOURCE (CODE)', 'DATASOURCE (DISPLAY)', 'DATASOURCE (URL)', 'PUBLISHSTATE (CODE)', 'PUBLISHSTATE (DISPLAY)', 'PUBLISHSTATE (URL)', 'YEAR (CODE)', 'YEAR (DISPLAY)', 'YEAR (URL)', 'REGION (CODE)', 'REGION (DISPLAY)', 'REGION (URL)', 'COUNTRY (CODE)', 'COUNTRY (DISPLAY)', 'COUNTRY (URL)', 'ALCOHOLTYPE (CODE)', 'ALCOHOLTYPE (DISPLAY)', 'ALCOHOLTYPE (URL)', 'Display Value', 'Numeric', 'Low', 'High', 'Comments'], ['SA_0000001400', 'Recorded alcohol per capita (15+) consumption (in litres of pure alcohol)', 'http://apps.who.int/gho/indicatorregistry/App_Main/view_indicator.aspx?iid=462', 'GISAHBDI', 'Data source', '', 'PUBLISHED', 'Published', '', '1975', '1975', '', 'AFR', 'Africa', '', 'BDI', 'Burundi', '', 'SA_OTHER_ALCOHOL', 'Other alcoholic beverages', '', '6.69', '6.69000', '', '', ''], ['SA_0000001400', 'Recorded alcohol per capita (15+) consumption (in litres of pure alcohol)', 'http://apps.who.int/gho/indicatorregistry/App_Main/view_indicator.aspx?iid=462', 'GISAHJOR', 'Data source', '', 'PUBLISHED', 'Published', '', '1971', '1971', '', 'EMR', 'Eastern Mediterranean', '', 'JOR', 'Jordan', '', 'SA_TOTAL', 'All types', '', '0.12', '0.12000', '', '', '']]\n"
     ]
    }
   ],
   "source": [
    "print(first_few)"
   ]
  },
  {
   "cell_type": "code",
   "execution_count": 5,
   "metadata": {
    "collapsed": false
   },
   "outputs": [],
   "source": [
    "world_alc =['YEAR (DISPLAY)', 'REGION (DISPLAY)','COUNTRY (DISPLAY)', 'ALCOHOLTYPE (DISPLAY)','Display Value']"
   ]
  },
  {
   "cell_type": "code",
   "execution_count": 6,
   "metadata": {
    "collapsed": false
   },
   "outputs": [],
   "source": [
    "world_alcohol = []\n",
    "for row in anal_col:\n",
    "    world_alcohol.append([row[10],row[13],row[16],row[19],row[21]])"
   ]
  },
  {
   "cell_type": "code",
   "execution_count": 7,
   "metadata": {
    "collapsed": false
   },
   "outputs": [],
   "source": [
    "d = world_alcohol[0:3]"
   ]
  },
  {
   "cell_type": "code",
   "execution_count": 8,
   "metadata": {
    "collapsed": false,
    "scrolled": true
   },
   "outputs": [
    {
     "name": "stdout",
     "output_type": "stream",
     "text": [
      "[['YEAR (DISPLAY)', 'REGION (DISPLAY)', 'COUNTRY (DISPLAY)', 'ALCOHOLTYPE (DISPLAY)', 'Display Value'], ['1975', 'Africa', 'Burundi', 'Other alcoholic beverages', '6.69'], ['1971', 'Eastern Mediterranean', 'Jordan', 'All types', '0.12']]\n"
     ]
    }
   ],
   "source": [
    "print(d)"
   ]
  },
  {
   "cell_type": "code",
   "execution_count": 9,
   "metadata": {
    "collapsed": false
   },
   "outputs": [
    {
     "data": {
      "text/plain": [
       "12663"
      ]
     },
     "execution_count": 9,
     "metadata": {},
     "output_type": "execute_result"
    }
   ],
   "source": [
    "row_cou_world = len(world_alcohol)\n",
    "row_cou_world"
   ]
  },
  {
   "cell_type": "code",
   "execution_count": 10,
   "metadata": {
    "collapsed": false
   },
   "outputs": [],
   "source": [
    "years = []\n",
    "for row in world_alcohol:\n",
    "    year = row[0]\n",
    "    years.append(year)"
   ]
  },
  {
   "cell_type": "code",
   "execution_count": 11,
   "metadata": {
    "collapsed": true
   },
   "outputs": [],
   "source": [
    "years = years[1:]"
   ]
  },
  {
   "cell_type": "code",
   "execution_count": 12,
   "metadata": {
    "collapsed": true
   },
   "outputs": [],
   "source": [
    "total = 0\n",
    "for item in years:\n",
    "    total = total+float(item)\n",
    "avg_year = total/len(years)"
   ]
  },
  {
   "cell_type": "code",
   "execution_count": 13,
   "metadata": {
    "collapsed": false
   },
   "outputs": [
    {
     "data": {
      "text/plain": [
       "1970.0589164429"
      ]
     },
     "execution_count": 13,
     "metadata": {},
     "output_type": "execute_result"
    }
   ],
   "source": [
    "avg_year"
   ]
  },
  {
   "cell_type": "code",
   "execution_count": 14,
   "metadata": {
    "collapsed": false
   },
   "outputs": [
    {
     "data": {
      "text/plain": [
       "12663"
      ]
     },
     "execution_count": 14,
     "metadata": {},
     "output_type": "execute_result"
    }
   ],
   "source": [
    "row_co = len(world_alcohol)\n",
    "row_co"
   ]
  },
  {
   "cell_type": "code",
   "execution_count": 15,
   "metadata": {
    "collapsed": true
   },
   "outputs": [],
   "source": [
    "with open('world_alcohol.csv', 'w', newline='') as fp:\n",
    "    a = csv.writer(fp, delimiter=',')\n",
    "    \n",
    "    a.writerows(world_alcohol)"
   ]
  },
  {
   "cell_type": "code",
   "execution_count": 16,
   "metadata": {
    "collapsed": false,
    "scrolled": true
   },
   "outputs": [],
   "source": [
    "import numpy as np\n",
    "#world_alcohol = numpy.genfromtxt(\"/home/affine/Documents/data_quest/data-analysis-intermediate/world_alcohol.csv\",delimiter=\",\")"
   ]
  },
  {
   "cell_type": "code",
   "execution_count": 17,
   "metadata": {
    "collapsed": false
   },
   "outputs": [],
   "source": [
    "#world_alcohol_dtype = world_alcohol.dtype"
   ]
  },
  {
   "cell_type": "code",
   "execution_count": 18,
   "metadata": {
    "collapsed": false
   },
   "outputs": [],
   "source": [
    "#world_alcohol_dtype"
   ]
  },
  {
   "cell_type": "code",
   "execution_count": 19,
   "metadata": {
    "collapsed": false,
    "scrolled": true
   },
   "outputs": [
    {
     "name": "stdout",
     "output_type": "stream",
     "text": [
      "[['1975' 'Africa' 'Burundi' 'Other alcoholic beverages' '6.69']\n",
      " ['1971' 'Eastern Mediterranean' 'Jordan' 'All types' '0.12']\n",
      " ['1975' 'Africa' 'Gabon' 'Wine' '5.05']\n",
      " ..., \n",
      " ['1969' 'Africa' 'Senegal' 'Beer' '0.19']\n",
      " ['1966' 'Western Pacific' 'Japan' 'Spirits' '1.64']\n",
      " ['1976' 'Western Pacific' 'Republic of Korea' 'Other alcoholic beverages'\n",
      "  '13.90']]\n"
     ]
    }
   ],
   "source": [
    "world_alcohol = np.genfromtxt(\"/home/affine/Documents/data_quest/data-analysis-intermediate/world_alcohol.csv\",delimiter=\",\",skip_header = True,dtype = \"U75\")\n",
    "print(world_alcohol)\n"
   ]
  },
  {
   "cell_type": "code",
   "execution_count": 20,
   "metadata": {
    "collapsed": false
   },
   "outputs": [],
   "source": [
    "uruguay_other_1986 = world_alcohol[1,4]\n",
    "third_country = world_alcohol[2,2]"
   ]
  },
  {
   "cell_type": "code",
   "execution_count": 21,
   "metadata": {
    "collapsed": false
   },
   "outputs": [
    {
     "data": {
      "text/plain": [
       "'0.12'"
      ]
     },
     "execution_count": 21,
     "metadata": {},
     "output_type": "execute_result"
    }
   ],
   "source": [
    "uruguay_other_1986"
   ]
  },
  {
   "cell_type": "code",
   "execution_count": 22,
   "metadata": {
    "collapsed": false
   },
   "outputs": [
    {
     "data": {
      "text/plain": [
       "'Gabon'"
      ]
     },
     "execution_count": 22,
     "metadata": {},
     "output_type": "execute_result"
    }
   ],
   "source": [
    "third_country"
   ]
  },
  {
   "cell_type": "code",
   "execution_count": 23,
   "metadata": {
    "collapsed": true
   },
   "outputs": [],
   "source": [
    "countries = world_alcohol[:,2]\n",
    "alcohol_consumption = world_alcohol[:,4]"
   ]
  },
  {
   "cell_type": "code",
   "execution_count": 24,
   "metadata": {
    "collapsed": false,
    "scrolled": true
   },
   "outputs": [
    {
     "name": "stdout",
     "output_type": "stream",
     "text": [
      "['Burundi' 'Jordan' 'Gabon' ..., 'Senegal' 'Japan' 'Republic of Korea']\n"
     ]
    }
   ],
   "source": [
    "print(countries)"
   ]
  },
  {
   "cell_type": "code",
   "execution_count": 25,
   "metadata": {
    "collapsed": false
   },
   "outputs": [
    {
     "data": {
      "text/plain": [
       "array(['6.69', '0.12', '5.05', ..., '0.19', '1.64', '13.90'], \n",
       "      dtype='<U75')"
      ]
     },
     "execution_count": 25,
     "metadata": {},
     "output_type": "execute_result"
    }
   ],
   "source": [
    "alcohol_consumption"
   ]
  },
  {
   "cell_type": "code",
   "execution_count": 26,
   "metadata": {
    "collapsed": true
   },
   "outputs": [],
   "source": [
    "first_two_columns = world_alcohol[:10,:2]\n",
    "first_ten_years = world_alcohol[:10,0]\n",
    "first_ten_rows = world_alcohol[:10,:]"
   ]
  },
  {
   "cell_type": "code",
   "execution_count": 27,
   "metadata": {
    "collapsed": false
   },
   "outputs": [
    {
     "data": {
      "text/plain": [
       "array([['1975', 'Africa'],\n",
       "       ['1971', 'Eastern Mediterranean'],\n",
       "       ['1975', 'Africa'],\n",
       "       ['1970', 'Africa'],\n",
       "       ['1965', 'Americas'],\n",
       "       ['1966', 'Americas'],\n",
       "       ['1970', 'South-East Asia'],\n",
       "       ['1972', 'Americas'],\n",
       "       ['1972', 'Europe'],\n",
       "       ['1978', 'Western Pacific']], \n",
       "      dtype='<U75')"
      ]
     },
     "execution_count": 27,
     "metadata": {},
     "output_type": "execute_result"
    }
   ],
   "source": [
    "first_two_columns"
   ]
  },
  {
   "cell_type": "code",
   "execution_count": 28,
   "metadata": {
    "collapsed": false
   },
   "outputs": [
    {
     "data": {
      "text/plain": [
       "array(['1975', '1971', '1975', '1970', '1965', '1966', '1970', '1972',\n",
       "       '1972', '1978'], \n",
       "      dtype='<U75')"
      ]
     },
     "execution_count": 28,
     "metadata": {},
     "output_type": "execute_result"
    }
   ],
   "source": [
    "first_ten_years"
   ]
  },
  {
   "cell_type": "code",
   "execution_count": 29,
   "metadata": {
    "collapsed": false,
    "scrolled": true
   },
   "outputs": [
    {
     "data": {
      "text/plain": [
       "array([['1975', 'Africa', 'Burundi', 'Other alcoholic beverages', '6.69'],\n",
       "       ['1971', 'Eastern Mediterranean', 'Jordan', 'All types', '0.12'],\n",
       "       ['1975', 'Africa', 'Gabon', 'Wine', '5.05'],\n",
       "       ['1970', 'Africa', 'Mozambique', 'Beer', '0.42'],\n",
       "       ['1965', 'Americas', 'Haiti', 'Spirits', '6.50'],\n",
       "       ['1966', 'Americas', 'Dominican Republic', 'Spirits', '1.54'],\n",
       "       ['1970', 'South-East Asia', 'Indonesia', 'Wine', '0.00'],\n",
       "       ['1972', 'Americas', 'Dominican Republic', 'Spirits', '1.56'],\n",
       "       ['1972', 'Europe', 'Malta', 'All types', '2.89'],\n",
       "       ['1978', 'Western Pacific', 'Samoa', 'Beer', '1.35']], \n",
       "      dtype='<U75')"
      ]
     },
     "execution_count": 29,
     "metadata": {},
     "output_type": "execute_result"
    }
   ],
   "source": [
    "first_ten_rows"
   ]
  },
  {
   "cell_type": "code",
   "execution_count": 30,
   "metadata": {
    "collapsed": true
   },
   "outputs": [],
   "source": [
    "first_twenty_regions = world_alcohol[0:20,1:3]"
   ]
  },
  {
   "cell_type": "code",
   "execution_count": 31,
   "metadata": {
    "collapsed": false
   },
   "outputs": [
    {
     "data": {
      "text/plain": [
       "array([['Africa', 'Burundi'],\n",
       "       ['Eastern Mediterranean', 'Jordan'],\n",
       "       ['Africa', 'Gabon'],\n",
       "       ['Africa', 'Mozambique'],\n",
       "       ['Americas', 'Haiti'],\n",
       "       ['Americas', 'Dominican Republic'],\n",
       "       ['South-East Asia', 'Indonesia'],\n",
       "       ['Americas', 'Dominican Republic'],\n",
       "       ['Europe', 'Malta'],\n",
       "       ['Western Pacific', 'Samoa'],\n",
       "       ['Europe', 'Finland'],\n",
       "       ['Eastern Mediterranean', 'Lebanon'],\n",
       "       ['Africa', 'Zimbabwe'],\n",
       "       ['Europe', 'Czech Republic'],\n",
       "       ['Western Pacific', 'China'],\n",
       "       ['Western Pacific', 'China'],\n",
       "       ['Western Pacific', 'China'],\n",
       "       ['Africa', 'Mauritania'],\n",
       "       ['Africa', 'Rwanda'],\n",
       "       ['Europe', 'Malta']], \n",
       "      dtype='<U75')"
      ]
     },
     "execution_count": 31,
     "metadata": {},
     "output_type": "execute_result"
    }
   ],
   "source": [
    "first_twenty_regions"
   ]
  },
  {
   "cell_type": "code",
   "execution_count": 32,
   "metadata": {
    "collapsed": true
   },
   "outputs": [],
   "source": [
    "countries_canada = world_alcohol[:,2]==\"Canada\"\n",
    "years_1984 = world_alcohol[:,0]==\"1984\""
   ]
  },
  {
   "cell_type": "code",
   "execution_count": 33,
   "metadata": {
    "collapsed": false
   },
   "outputs": [
    {
     "name": "stdout",
     "output_type": "stream",
     "text": [
      "[False False False ..., False False False]\n"
     ]
    }
   ],
   "source": [
    "print(countries_canada)"
   ]
  },
  {
   "cell_type": "code",
   "execution_count": 34,
   "metadata": {
    "collapsed": false
   },
   "outputs": [
    {
     "data": {
      "text/plain": [
       "array([False, False, False, ..., False, False, False], dtype=bool)"
      ]
     },
     "execution_count": 34,
     "metadata": {},
     "output_type": "execute_result"
    }
   ],
   "source": [
    "years_1984"
   ]
  },
  {
   "cell_type": "code",
   "execution_count": 35,
   "metadata": {
    "collapsed": true
   },
   "outputs": [],
   "source": [
    "country_is_algeria = world_alcohol[:,2]==\"Algeria\"\n",
    "country_algeria = world_alcohol[country_is_algeria,:]"
   ]
  },
  {
   "cell_type": "code",
   "execution_count": 36,
   "metadata": {
    "collapsed": false
   },
   "outputs": [
    {
     "data": {
      "text/plain": [
       "array([False, False, False, ..., False, False, False], dtype=bool)"
      ]
     },
     "execution_count": 36,
     "metadata": {},
     "output_type": "execute_result"
    }
   ],
   "source": [
    "country_is_algeria"
   ]
  },
  {
   "cell_type": "code",
   "execution_count": 37,
   "metadata": {
    "collapsed": false
   },
   "outputs": [
    {
     "data": {
      "text/plain": [
       "array([['1962', 'Africa', 'Algeria', 'Spirits', '0.11'],\n",
       "       ['1976', 'Africa', 'Algeria', 'Spirits', '0.09'],\n",
       "       ['1979', 'Africa', 'Algeria', 'All types', '0.56'],\n",
       "       ['1966', 'Africa', 'Algeria', 'Beer', '0.29'],\n",
       "       ['1973', 'Africa', 'Algeria', 'Beer', '0.41'],\n",
       "       ['1974', 'Africa', 'Algeria', 'Spirits', '0.08'],\n",
       "       ['1964', 'Africa', 'Algeria', 'Spirits', '0.07'],\n",
       "       ['1964', 'Africa', 'Algeria', 'Beer', '0.26'],\n",
       "       ['1974', 'Africa', 'Algeria', 'All types', '1.56'],\n",
       "       ['1976', 'Africa', 'Algeria', 'Beer', '0.31'],\n",
       "       ['1974', 'Africa', 'Algeria', 'Beer', '0.35'],\n",
       "       ['1968', 'Africa', 'Algeria', 'Beer', '0.34'],\n",
       "       ['1964', 'Africa', 'Algeria', 'All types', '0.91'],\n",
       "       ['1963', 'Africa', 'Algeria', 'Spirits', '0.07'],\n",
       "       ['1963', 'Africa', 'Algeria', 'Wine', '0.73'],\n",
       "       ['1961', 'Africa', 'Algeria', 'Wine', '1.60'],\n",
       "       ['1977', 'Africa', 'Algeria', 'Beer', '0.31'],\n",
       "       ['1966', 'Africa', 'Algeria', 'Wine', '0.50'],\n",
       "       ['1972', 'Africa', 'Algeria', 'Wine', '2.04'],\n",
       "       ['1978', 'Africa', 'Algeria', 'Spirits', '0.07'],\n",
       "       ['1979', 'Africa', 'Algeria', 'Beer', '0.27'],\n",
       "       ['1968', 'Africa', 'Algeria', 'Spirits', '0.15'],\n",
       "       ['1969', 'Africa', 'Algeria', 'All types', '1.87'],\n",
       "       ['1972', 'Africa', 'Algeria', 'Spirits', '0.06'],\n",
       "       ['1976', 'Africa', 'Algeria', 'All types', '1.38'],\n",
       "       ['1967', 'Africa', 'Algeria', 'All types', '0.88'],\n",
       "       ['1967', 'Africa', 'Algeria', 'Beer', '0.33'],\n",
       "       ['1966', 'Africa', 'Algeria', 'Spirits', '0.05'],\n",
       "       ['1971', 'Africa', 'Algeria', 'Beer', '0.38'],\n",
       "       ['1965', 'Africa', 'Algeria', 'Wine', '0.58'],\n",
       "       ['1979', 'Africa', 'Algeria', 'Spirits', '0.02'],\n",
       "       ['1961', 'Africa', 'Algeria', 'Beer', '0.67'],\n",
       "       ['1975', 'Africa', 'Algeria', 'Wine', '1.04'],\n",
       "       ['1973', 'Africa', 'Algeria', 'Spirits', '0.00'],\n",
       "       ['1978', 'Africa', 'Algeria', 'Wine', '0.58'],\n",
       "       ['1975', 'Africa', 'Algeria', 'Beer', '0.22'],\n",
       "       ['1970', 'Africa', 'Algeria', 'Spirits', '0.11'],\n",
       "       ['1970', 'Africa', 'Algeria', 'Beer', '0.38'],\n",
       "       ['1970', 'Africa', 'Algeria', 'Wine', '1.17'],\n",
       "       ['1972', 'Africa', 'Algeria', 'Beer', '0.38'],\n",
       "       ['1975', 'Africa', 'Algeria', 'All types', '1.36'],\n",
       "       ['1969', 'Africa', 'Algeria', 'Wine', '1.27'],\n",
       "       ['1969', 'Africa', 'Algeria', 'Spirits', '0.23'],\n",
       "       ['1963', 'Africa', 'Algeria', 'Beer', '0.33'],\n",
       "       ['1977', 'Africa', 'Algeria', 'Wine', '0.67'],\n",
       "       ['1979', 'Africa', 'Algeria', 'Wine', '0.26'],\n",
       "       ['1966', 'Africa', 'Algeria', 'All types', '0.85'],\n",
       "       ['1965', 'Africa', 'Algeria', 'Spirits', '0.07'],\n",
       "       ['1967', 'Africa', 'Algeria', 'Spirits', '0.05'],\n",
       "       ['1961', 'Africa', 'Algeria', 'Spirits', '0.29'],\n",
       "       ['1977', 'Africa', 'Algeria', 'All types', '1.05'],\n",
       "       ['1971', 'Africa', 'Algeria', 'Wine', '1.61'],\n",
       "       ['1963', 'Africa', 'Algeria', 'All types', '1.12'],\n",
       "       ['1962', 'Africa', 'Algeria', 'All types', '1.77'],\n",
       "       ['1971', 'Africa', 'Algeria', 'All types', '2.12'],\n",
       "       ['1973', 'Africa', 'Algeria', 'All types', '1.49'],\n",
       "       ['1975', 'Africa', 'Algeria', 'Spirits', '0.09'],\n",
       "       ['1964', 'Africa', 'Algeria', 'Wine', '0.57'],\n",
       "       ['1973', 'Africa', 'Algeria', 'Wine', '1.07'],\n",
       "       ['1962', 'Africa', 'Algeria', 'Beer', '0.51'],\n",
       "       ['1976', 'Africa', 'Algeria', 'Wine', '0.98'],\n",
       "       ['1965', 'Africa', 'Algeria', 'All types', '0.93'],\n",
       "       ['1974', 'Africa', 'Algeria', 'Wine', '1.12'],\n",
       "       ['1967', 'Africa', 'Algeria', 'Wine', '0.50'],\n",
       "       ['1968', 'Africa', 'Algeria', 'Wine', '0.82'],\n",
       "       ['1970', 'Africa', 'Algeria', 'All types', '1.67'],\n",
       "       ['1972', 'Africa', 'Algeria', 'All types', '2.51'],\n",
       "       ['1971', 'Africa', 'Algeria', 'Spirits', '0.12'],\n",
       "       ['1965', 'Africa', 'Algeria', 'Beer', '0.27'],\n",
       "       ['1978', 'Africa', 'Algeria', 'All types', '0.95'],\n",
       "       ['1978', 'Africa', 'Algeria', 'Beer', '0.29'],\n",
       "       ['1977', 'Africa', 'Algeria', 'Spirits', '0.07'],\n",
       "       ['1962', 'Africa', 'Algeria', 'Wine', '1.14'],\n",
       "       ['1968', 'Africa', 'Algeria', 'All types', '1.32'],\n",
       "       ['1961', 'Africa', 'Algeria', 'All types', '2.57'],\n",
       "       ['1969', 'Africa', 'Algeria', 'Beer', '0.36']], \n",
       "      dtype='<U75')"
      ]
     },
     "execution_count": 37,
     "metadata": {},
     "output_type": "execute_result"
    }
   ],
   "source": [
    "country_algeria"
   ]
  },
  {
   "cell_type": "code",
   "execution_count": 38,
   "metadata": {
    "collapsed": false
   },
   "outputs": [],
   "source": [
    "is_algeria_and_1986 = ((world_alcohol[:,0]==\"1970\") & (world_alcohol[:,2]== \"Algeria\"))"
   ]
  },
  {
   "cell_type": "code",
   "execution_count": 39,
   "metadata": {
    "collapsed": true
   },
   "outputs": [],
   "source": [
    "rows_with_algeria_and_1986 = world_alcohol[is_algeria_and_1986]"
   ]
  },
  {
   "cell_type": "code",
   "execution_count": 40,
   "metadata": {
    "collapsed": false,
    "scrolled": true
   },
   "outputs": [
    {
     "name": "stdout",
     "output_type": "stream",
     "text": [
      "[['1970' 'Africa' 'Algeria' 'Spirits' '0.11']\n",
      " ['1970' 'Africa' 'Algeria' 'Beer' '0.38']\n",
      " ['1970' 'Africa' 'Algeria' 'Wine' '1.17']\n",
      " ['1970' 'Africa' 'Algeria' 'All types' '1.67']]\n"
     ]
    }
   ],
   "source": [
    "print(rows_with_algeria_and_1986)"
   ]
  },
  {
   "cell_type": "code",
   "execution_count": 41,
   "metadata": {
    "collapsed": false
   },
   "outputs": [
    {
     "data": {
      "text/plain": [
       "array([False, False, False, ..., False, False, False], dtype=bool)"
      ]
     },
     "execution_count": 41,
     "metadata": {},
     "output_type": "execute_result"
    }
   ],
   "source": [
    "is_algeria_and_1986"
   ]
  },
  {
   "cell_type": "code",
   "execution_count": 42,
   "metadata": {
    "collapsed": true
   },
   "outputs": [],
   "source": [
    "re_pl = world_alcohol[:,0]==\"1970\"\n",
    "world_alcohol[re_pl,0]=\"2014\"\n",
    "rep_la = world_alcohol[:,3]==\"Wine\"\n",
    "world_alcohol[rep_la,3]=\"Grog\""
   ]
  },
  {
   "cell_type": "code",
   "execution_count": 43,
   "metadata": {
    "collapsed": true
   },
   "outputs": [],
   "source": [
    "is_value_empty = world_alcohol[:,4] == \"\""
   ]
  },
  {
   "cell_type": "code",
   "execution_count": 44,
   "metadata": {
    "collapsed": true
   },
   "outputs": [],
   "source": [
    "world_alcohol[is_value_empty,4]= \"0\""
   ]
  },
  {
   "cell_type": "code",
   "execution_count": 45,
   "metadata": {
    "collapsed": false
   },
   "outputs": [
    {
     "data": {
      "text/plain": [
       "array([False, False, False, ..., False, False, False], dtype=bool)"
      ]
     },
     "execution_count": 45,
     "metadata": {},
     "output_type": "execute_result"
    }
   ],
   "source": [
    "is_value_empty"
   ]
  },
  {
   "cell_type": "code",
   "execution_count": 46,
   "metadata": {
    "collapsed": false
   },
   "outputs": [
    {
     "data": {
      "text/plain": [
       "dtype('<U75')"
      ]
     },
     "execution_count": 46,
     "metadata": {},
     "output_type": "execute_result"
    }
   ],
   "source": [
    "alcohol_consumption.dtype"
   ]
  },
  {
   "cell_type": "code",
   "execution_count": 47,
   "metadata": {
    "collapsed": true
   },
   "outputs": [],
   "source": [
    "for _position, _value in enumerate(world_alcohol[:,4]):\n",
    "    try:\n",
    "        _new_value = float(_value)\n",
    "    except ValueError:\n",
    "        _new_value = 0.0\n",
    "    world_alcohol[:,4][_position] = _new_value\n"
   ]
  },
  {
   "cell_type": "code",
   "execution_count": 48,
   "metadata": {
    "collapsed": false
   },
   "outputs": [],
   "source": [
    "#alcohol_consumption = world_alcohol[:,4]\n",
    "alcohol_consumption = world_alcohol[:,4].astype(float)"
   ]
  },
  {
   "cell_type": "code",
   "execution_count": 49,
   "metadata": {
    "collapsed": false,
    "scrolled": true
   },
   "outputs": [
    {
     "name": "stdout",
     "output_type": "stream",
     "text": [
      "[  6.69   0.12   5.05 ...,   0.19   1.64  13.9 ]\n"
     ]
    }
   ],
   "source": [
    "print(alcohol_consumption)"
   ]
  },
  {
   "cell_type": "code",
   "execution_count": 50,
   "metadata": {
    "collapsed": false
   },
   "outputs": [
    {
     "data": {
      "text/plain": [
       "array([  6.69,   0.12,   5.05, ...,   0.19,   1.64,  13.9 ])"
      ]
     },
     "execution_count": 50,
     "metadata": {},
     "output_type": "execute_result"
    }
   ],
   "source": [
    "alcohol_consumption.astype(float, order='K', casting='unsafe', subok=True, copy=True)"
   ]
  },
  {
   "cell_type": "code",
   "execution_count": 51,
   "metadata": {
    "collapsed": false
   },
   "outputs": [],
   "source": [
    "total_alcohol = alcohol_consumption.sum()\n",
    "average_alcohol = alcohol_consumption.mean()"
   ]
  },
  {
   "cell_type": "code",
   "execution_count": 52,
   "metadata": {
    "collapsed": false
   },
   "outputs": [
    {
     "data": {
      "text/plain": [
       "26850.899999999998"
      ]
     },
     "execution_count": 52,
     "metadata": {},
     "output_type": "execute_result"
    }
   ],
   "source": [
    "total_alcohol"
   ]
  },
  {
   "cell_type": "code",
   "execution_count": 53,
   "metadata": {
    "collapsed": false
   },
   "outputs": [
    {
     "data": {
      "text/plain": [
       "2.120589164429"
      ]
     },
     "execution_count": 53,
     "metadata": {},
     "output_type": "execute_result"
    }
   ],
   "source": [
    "average_alcohol"
   ]
  },
  {
   "cell_type": "code",
   "execution_count": 54,
   "metadata": {
    "collapsed": true
   },
   "outputs": [],
   "source": [
    "is_canada_1986 = (world_alcohol[:,2] == \"Canada\") & (world_alcohol[:,0] == '1970')\n",
    "canada_1986 = world_alcohol[is_canada_1986,:]\n",
    "canada_alcohol = canada_1986[:,4]\n",
    "empty_strings = canada_alcohol == ''\n",
    "canada_alcohol[empty_strings] = \"0\"\n",
    "canada_alcohol = canada_alcohol.astype(float)\n",
    "total_canadian_drinking = canada_alcohol.sum()"
   ]
  },
  {
   "cell_type": "code",
   "execution_count": 55,
   "metadata": {
    "collapsed": false
   },
   "outputs": [
    {
     "data": {
      "text/plain": [
       "0.0"
      ]
     },
     "execution_count": 55,
     "metadata": {},
     "output_type": "execute_result"
    }
   ],
   "source": [
    "total_canadian_drinking"
   ]
  },
  {
   "cell_type": "code",
   "execution_count": 56,
   "metadata": {
    "collapsed": false
   },
   "outputs": [
    {
     "data": {
      "text/plain": [
       "array([], dtype=float64)"
      ]
     },
     "execution_count": 56,
     "metadata": {},
     "output_type": "execute_result"
    }
   ],
   "source": [
    "canada_alcohol"
   ]
  },
  {
   "cell_type": "code",
   "execution_count": 57,
   "metadata": {
    "collapsed": true
   },
   "outputs": [],
   "source": [
    "totals = {}\n",
    "in_year = world_alcohol[:,0]==\"1975\"\n",
    "year = world_alcohol[in_year,:]\n",
    "for country in countries:\n",
    "    is_country = year[:,2] == country\n",
    "    country_consumption = year[is_country,:]\n",
    "    alcohol_column = country_consumption[:,4]\n",
    "    is_empty = alcohol_column == ''\n",
    "    alcohol_column[is_empty] = \"0\"\n",
    "    alcohol_column = alcohol_column.astype(float)\n",
    "    totals[country] = alcohol_column.sum()"
   ]
  },
  {
   "cell_type": "code",
   "execution_count": 58,
   "metadata": {
    "collapsed": false,
    "scrolled": false
   },
   "outputs": [
    {
     "data": {
      "text/plain": [
       "{'Afghanistan': 0.0,\n",
       " 'Albania': 2.7000000000000002,\n",
       " 'Algeria': 2.71,\n",
       " 'Angola': 4.8799999999999999,\n",
       " 'Antigua and Barbuda': 3.8099999999999996,\n",
       " 'Argentina': 35.060000000000002,\n",
       " 'Australia': 26.420000000000002,\n",
       " 'Austria': 28.199999999999999,\n",
       " 'Bahamas': 27.120000000000001,\n",
       " 'Bahrain': 9.3900000000000006,\n",
       " 'Bangladesh': 0.0,\n",
       " 'Belgium': 26.920000000000002,\n",
       " 'Belize': 13.56,\n",
       " 'Benin': 4.4800000000000004,\n",
       " 'Bhutan': 1.1799999999999999,\n",
       " 'Bolivia (Plurinational State of)': 6.7099999999999991,\n",
       " 'Botswana': 11.52,\n",
       " 'Brazil': 5.9400000000000004,\n",
       " 'Brunei Darussalam': 2.6600000000000001,\n",
       " 'Bulgaria': 20.300000000000001,\n",
       " 'Burkina Faso': 6.8799999999999999,\n",
       " 'Burundi': 16.98,\n",
       " 'Cabo Verde': 9.1799999999999997,\n",
       " 'Cameroon': 13.029999999999999,\n",
       " 'Canada': 19.520000000000003,\n",
       " 'Central African Republic': 5.0800000000000001,\n",
       " 'Chad': 1.02,\n",
       " 'Chile': 17.200000000000003,\n",
       " 'China': 2.3599999999999999,\n",
       " 'Colombia': 8.3100000000000005,\n",
       " 'Comoros': 0.41999999999999998,\n",
       " 'Congo': 10.039999999999999,\n",
       " 'Costa Rica': 6.9500000000000002,\n",
       " \"Cote d'Ivoire\": 6.6600000000000001,\n",
       " 'Cuba': 7.2999999999999998,\n",
       " 'Cyprus': 9.3499999999999996,\n",
       " 'Czech Republic': 26.659999999999997,\n",
       " \"Democratic People's Republic of Korea\": 4.5199999999999996,\n",
       " 'Democratic Republic of the Congo': 6.5599999999999996,\n",
       " 'Denmark': 22.939999999999998,\n",
       " 'Djibouti': 4.8799999999999999,\n",
       " 'Dominican Republic': 5.9900000000000002,\n",
       " 'Ecuador': 5.5199999999999996,\n",
       " 'Egypt': 0.21000000000000002,\n",
       " 'El Salvador': 5.0999999999999996,\n",
       " 'Eritrea': 0.0,\n",
       " 'Ethiopia': 1.1599999999999999,\n",
       " 'Fiji': 5.9900000000000002,\n",
       " 'Finland': 16.0,\n",
       " 'France': 42.240000000000002,\n",
       " 'Gabon': 21.220000000000002,\n",
       " 'Gambia': 2.7799999999999998,\n",
       " 'Germany': 33.68,\n",
       " 'Ghana': 3.8599999999999999,\n",
       " 'Greece': 21.759999999999998,\n",
       " 'Guatemala': 5.8799999999999999,\n",
       " 'Guinea': 0.23999999999999999,\n",
       " 'Guinea-Bissau': 6.3100000000000005,\n",
       " 'Guyana': 7.0899999999999999,\n",
       " 'Haiti': 12.69,\n",
       " 'Honduras': 4.5999999999999996,\n",
       " 'Hungary': 27.579999999999998,\n",
       " 'Iceland': 9.5,\n",
       " 'India': 1.96,\n",
       " 'Indonesia': 0.16,\n",
       " 'Iran (Islamic Republic of)': 1.0,\n",
       " 'Iraq': 1.2699999999999998,\n",
       " 'Ireland': 27.68,\n",
       " 'Israel': 10.18,\n",
       " 'Italy': 36.640000000000001,\n",
       " 'Jamaica': 9.6799999999999997,\n",
       " 'Japan': 10.56,\n",
       " 'Jordan': 0.44,\n",
       " 'Kenya': 8.5599999999999987,\n",
       " 'Kiribati': 2.1200000000000001,\n",
       " 'Kuwait': 0.0,\n",
       " \"Lao People's Democratic Republic\": 8.3800000000000008,\n",
       " 'Lebanon': 5.8900000000000006,\n",
       " 'Lesotho': 3.3600000000000003,\n",
       " 'Liberia': 7.4400000000000004,\n",
       " 'Libya': 0.0,\n",
       " 'Luxembourg': 37.960000000000001,\n",
       " 'Madagascar': 3.5699999999999998,\n",
       " 'Malawi': 7.1200000000000001,\n",
       " 'Malaysia': 1.0,\n",
       " 'Mali': 1.0900000000000001,\n",
       " 'Malta': 8.5,\n",
       " 'Mauritania': 0.16,\n",
       " 'Mauritius': 5.96,\n",
       " 'Mexico': 7.7400000000000002,\n",
       " 'Micronesia (Federated States of)': 0.0,\n",
       " 'Mongolia': 5.9400000000000004,\n",
       " 'Morocco': 1.76,\n",
       " 'Mozambique': 1.6899999999999999,\n",
       " 'Myanmar': 0.22,\n",
       " 'Namibia': 0.46000000000000002,\n",
       " 'Nepal': 0.0,\n",
       " 'Netherlands': 22.82,\n",
       " 'New Zealand': 26.469999999999999,\n",
       " 'Nicaragua': 7.1299999999999999,\n",
       " 'Niger': 0.26000000000000001,\n",
       " 'Nigeria': 14.09,\n",
       " 'Norway': 11.74,\n",
       " 'Oman': 0.68000000000000005,\n",
       " 'Pakistan': 0.01,\n",
       " 'Panama': 9.4399999999999995,\n",
       " 'Papua New Guinea': 2.8200000000000003,\n",
       " 'Paraguay': 11.93,\n",
       " 'Peru': 13.16,\n",
       " 'Philippines': 5.3399999999999999,\n",
       " 'Poland': 17.240000000000002,\n",
       " 'Portugal': 40.18,\n",
       " 'Qatar': 2.79,\n",
       " 'Republic of Korea': 30.34,\n",
       " 'Romania': 19.359999999999999,\n",
       " 'Russian Federation': 15.359999999999999,\n",
       " 'Rwanda': 13.59,\n",
       " 'Saint Kitts and Nevis': 6.8000000000000007,\n",
       " 'Saint Lucia': 17.219999999999999,\n",
       " 'Samoa': 2.52,\n",
       " 'Sao Tome and Principe': 9.9399999999999995,\n",
       " 'Saudi Arabia': 0.0,\n",
       " 'Senegal': 1.6399999999999999,\n",
       " 'Seychelles': 7.04,\n",
       " 'Sierra Leone': 9.1899999999999995,\n",
       " 'Singapore': 4.79,\n",
       " 'Slovakia': 29.399999999999999,\n",
       " 'Solomon Islands': 1.3,\n",
       " 'Somalia': 0.0,\n",
       " 'South Africa': 16.75,\n",
       " 'Spain': 37.059999999999995,\n",
       " 'Sri Lanka': 0.44000000000000006,\n",
       " 'Sudan': 3.1000000000000001,\n",
       " 'Suriname': 13.859999999999999,\n",
       " 'Swaziland': 24.199999999999999,\n",
       " 'Sweden': 17.380000000000003,\n",
       " 'Switzerland': 28.57,\n",
       " 'Syrian Arab Republic': 1.8300000000000001,\n",
       " 'Thailand': 4.5999999999999996,\n",
       " 'Timor-Leste': 0.23999999999999999,\n",
       " 'Togo': 9.8599999999999994,\n",
       " 'Trinidad and Tobago': 10.140000000000001,\n",
       " 'Tunisia': 2.4399999999999999,\n",
       " 'Turkey': 1.54,\n",
       " 'Uganda': 24.490000000000002,\n",
       " 'Ukraine': 14.960000000000001,\n",
       " 'United Arab Emirates': 19.880000000000003,\n",
       " 'United Kingdom of Great Britain and Northern Ireland': 20.800000000000004,\n",
       " 'United Republic of Tanzania': 10.48,\n",
       " 'United States of America': 20.359999999999999,\n",
       " 'Uruguay': 13.699999999999999,\n",
       " 'Vanuatu': 3.48,\n",
       " 'Venezuela (Bolivarian Republic of)': 13.76,\n",
       " 'Viet Nam': 1.3300000000000001,\n",
       " 'Yemen': 0.55000000000000004,\n",
       " 'Zambia': 13.640000000000001,\n",
       " 'Zimbabwe': 11.82}"
      ]
     },
     "execution_count": 58,
     "metadata": {},
     "output_type": "execute_result"
    }
   ],
   "source": [
    "totals"
   ]
  },
  {
   "cell_type": "code",
   "execution_count": 59,
   "metadata": {
    "collapsed": true
   },
   "outputs": [],
   "source": [
    "highest_value = 0\n",
    "highest_key = None\n",
    "for k,v in totals.items():\n",
    "    if v > highest_value:\n",
    "        highest_value = v\n",
    "        highest_key = k"
   ]
  },
  {
   "cell_type": "code",
   "execution_count": 60,
   "metadata": {
    "collapsed": false
   },
   "outputs": [
    {
     "data": {
      "text/plain": [
       "'France'"
      ]
     },
     "execution_count": 60,
     "metadata": {},
     "output_type": "execute_result"
    }
   ],
   "source": [
    "highest_key"
   ]
  },
  {
   "cell_type": "code",
   "execution_count": 61,
   "metadata": {
    "collapsed": false
   },
   "outputs": [
    {
     "data": {
      "text/plain": [
       "'Peru'"
      ]
     },
     "execution_count": 61,
     "metadata": {},
     "output_type": "execute_result"
    }
   ],
   "source": [
    "k"
   ]
  },
  {
   "cell_type": "code",
   "execution_count": 62,
   "metadata": {
    "collapsed": false
   },
   "outputs": [
    {
     "data": {
      "text/plain": [
       "13.16"
      ]
     },
     "execution_count": 62,
     "metadata": {},
     "output_type": "execute_result"
    }
   ],
   "source": [
    "v"
   ]
  },
  {
   "cell_type": "code",
   "execution_count": 63,
   "metadata": {
    "collapsed": false
   },
   "outputs": [
    {
     "data": {
      "text/plain": [
       "42.240000000000002"
      ]
     },
     "execution_count": 63,
     "metadata": {},
     "output_type": "execute_result"
    }
   ],
   "source": [
    "highest_value"
   ]
  },
  {
   "cell_type": "markdown",
   "metadata": {},
   "source": [
    "import matplotlib.pylab as plt\n",
    "%matplotlib inline\n",
    "\n",
    "lists = sorted(totals.items()) # sorted by key, return a list of tuples\n",
    "\n",
    "x, y = zip(*lists) # unpack a list of pairs into two tuples\n",
    "\n",
    "\n",
    "plt.bar(x, y)\n",
    "plt.show()\n"
   ]
  },
  {
   "cell_type": "markdown",
   "metadata": {},
   "source": [
    "for data_dict in totals.values():\n",
    "   x = data_dict.keys()\n",
    "   y = data_dict.values()\n",
    "   plt.scatter(x,y,color=colors.pop())"
   ]
  },
  {
   "cell_type": "markdown",
   "metadata": {},
   "source": [
    "totals.plot()"
   ]
  },
  {
   "cell_type": "code",
   "execution_count": 64,
   "metadata": {
    "collapsed": true
   },
   "outputs": [],
   "source": [
    "import matplotlib.pylab as plt\n",
    "%matplotlib inline"
   ]
  },
  {
   "cell_type": "code",
   "execution_count": 65,
   "metadata": {
    "collapsed": false
   },
   "outputs": [],
   "source": [
    "df = world_alcohol[0:9,4].astype(float)"
   ]
  },
  {
   "cell_type": "code",
   "execution_count": 66,
   "metadata": {
    "collapsed": false
   },
   "outputs": [
    {
     "data": {
      "text/plain": [
       "array([ 6.69,  0.12,  5.05,  0.42,  6.5 ,  1.54,  0.  ,  1.56,  2.89])"
      ]
     },
     "execution_count": 66,
     "metadata": {},
     "output_type": "execute_result"
    }
   ],
   "source": [
    "df"
   ]
  },
  {
   "cell_type": "code",
   "execution_count": 67,
   "metadata": {
    "collapsed": false
   },
   "outputs": [
    {
     "data": {
      "text/plain": [
       "[6.69, 0.12, 5.05, 0.42, 6.5, 1.54, 0.0, 1.56, 2.89]"
      ]
     },
     "execution_count": 67,
     "metadata": {},
     "output_type": "execute_result"
    }
   ],
   "source": [
    "df.tolist()"
   ]
  },
  {
   "cell_type": "code",
   "execution_count": 68,
   "metadata": {
    "collapsed": false
   },
   "outputs": [
    {
     "data": {
      "text/plain": [
       "(array([ 3.,  0.,  2.,  0.,  1.,  0.,  0.,  1.,  0.,  2.]),\n",
       " array([ 0.   ,  0.669,  1.338,  2.007,  2.676,  3.345,  4.014,  4.683,\n",
       "         5.352,  6.021,  6.69 ]),\n",
       " <a list of 10 Patch objects>)"
      ]
     },
     "execution_count": 68,
     "metadata": {},
     "output_type": "execute_result"
    },
    {
     "data": {
      "image/png": "[encoded data removed]",
      "text/plain": [
       "<matplotlib.figure.Figure at 0x7f77a41587f0>"
      ]
     },
     "metadata": {},
     "output_type": "display_data"
    }
   ],
   "source": [
    "plt.hist(df)"
   ]
  },
  {
   "cell_type": "code",
   "execution_count": 73,
   "metadata": {
    "collapsed": false
   },
   "outputs": [
    {
     "data": {
      "text/plain": [
       "<Container object of 157 artists>"
      ]
     },
     "execution_count": 73,
     "metadata": {},
     "output_type": "execute_result"
    },
    {
     "data": {
      "image/png": "[encoded data removed]",
      "text/plain": [
       "<matplotlib.figure.Figure at 0x7f7792852668>"
      ]
     },
     "metadata": {},
     "output_type": "display_data"
    }
   ],
   "source": [
    "plt.bar(range(len(totals)), totals.values(), align='center')"
   ]
  },
  {
   "cell_type": "code",
   "execution_count": null,
   "metadata": {
    "collapsed": true
   },
   "outputs": [],
   "source": []
  }
 ],
 "metadata": {
  "anaconda-cloud": {},
  "kernelspec": {
   "display_name": "Python [py3]",
   "language": "python",
   "name": "Python [py3]"
  },
  "language_info": {
   "codemirror_mode": {
    "name": "ipython",
    "version": 3
   },
   "file_extension": ".py",
   "mimetype": "text/x-python",
   "name": "python",
   "nbconvert_exporter": "python",
   "pygments_lexer": "ipython3",
   "version": "3.5.2"
  }
 },
 "nbformat": 4,
 "nbformat_minor": 0
}
