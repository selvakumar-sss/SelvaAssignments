{
 "cells": [
  {
   "cell_type": "code",
   "execution_count": null,
   "metadata": {
    "collapsed": true,
    "nbpresent": {
     "id": "8f3fd138-38a3-4d5e-90ed-ec85af8262c9"
    },
    "slideshow": {
     "slide_type": "slide"
    }
   },
   "outputs": [],
   "source": [
    "import pandas as pd\n",
    "import numpy as np\n",
    "import re"
   ]
  },
  {
   "cell_type": "code",
   "execution_count": null,
   "metadata": {
    "collapsed": true,
    "nbpresent": {
     "id": "f6da1a2a-25f4-4ee1-850b-ca9c0c6c7563"
    },
    "slideshow": {
     "slide_type": "slide"
    }
   },
   "outputs": [],
   "source": [
    "data_loc = '/home/affine/Documents/blog_data/income_data.csv'\n",
    "income_df = pd.read_csv(data_loc, sep=\",\")"
   ]
  },
  {
   "cell_type": "code",
   "execution_count": null,
   "metadata": {
    "nbpresent": {
     "id": "b00f9d96-86f1-40ce-9b4a-06d24d6fa581"
    },
    "scrolled": false,
    "slideshow": {
     "slide_type": "subslide"
    }
   },
   "outputs": [],
   "source": [
    "income_df.head()"
   ]
  },
  {
   "cell_type": "code",
   "execution_count": null,
   "metadata": {},
   "outputs": [],
   "source": [
    "income_df.tail(3)"
   ]
  },
  {
   "cell_type": "code",
   "execution_count": null,
   "metadata": {
    "scrolled": false
   },
   "outputs": [],
   "source": [
    "income_df.info()"
   ]
  },
  {
   "cell_type": "code",
   "execution_count": null,
   "metadata": {
    "nbpresent": {
     "id": "674d21a2-239a-4fca-8e15-2e735f59f8aa"
    },
    "scrolled": true,
    "slideshow": {
     "slide_type": "fragment"
    }
   },
   "outputs": [],
   "source": [
    "duplica_row = income_df[income_df.duplicated()]\n",
    "duplica_row.count()"
   ]
  },
  {
   "cell_type": "code",
   "execution_count": null,
   "metadata": {
    "nbpresent": {
     "id": "3702a76b-f531-40d5-9a32-bc5f7ed4c543"
    },
    "slideshow": {
     "slide_type": "slide"
    }
   },
   "outputs": [],
   "source": [
    "duplica_by_col = income_df[income_df.duplicated(['Name', 'Age','Income'],keep=\"first\")].sort_values(\"Name\")\n",
    "duplica_by_col"
   ]
  },
  {
   "cell_type": "code",
   "execution_count": null,
   "metadata": {
    "nbpresent": {
     "id": "d362ba3e-38e7-4431-91b6-03f4466d9305"
    },
    "scrolled": true,
    "slideshow": {
     "slide_type": "slide"
    }
   },
   "outputs": [],
   "source": [
    "uniq_data = income_df.drop_duplicates()\n",
    "uniq_data.count()"
   ]
  },
  {
   "cell_type": "markdown",
   "metadata": {
    "nbpresent": {
     "id": "a7ed69cf-da44-4dfe-bd29-8765e1de8818"
    },
    "slideshow": {
     "slide_type": "notes"
    }
   },
   "source": [
    "#### Since the jobtype contains only 4 values there is not much information to dig out from the column so we can drop out"
   ]
  },
  {
   "cell_type": "code",
   "execution_count": null,
   "metadata": {
    "collapsed": true,
    "nbpresent": {
     "id": "04930cb1-8364-409f-bbfc-ea3d9800be82"
    },
    "slideshow": {
     "slide_type": "slide"
    }
   },
   "outputs": [],
   "source": [
    "income_data = uniq_data.drop(\"Job type\",axis=1)"
   ]
  },
  {
   "cell_type": "code",
   "execution_count": null,
   "metadata": {
    "nbpresent": {
     "id": "4bb541e1-b143-4663-88c5-60400923b2ff"
    },
    "slideshow": {
     "slide_type": "skip"
    }
   },
   "outputs": [],
   "source": [
    "income_data.columns"
   ]
  },
  {
   "cell_type": "markdown",
   "metadata": {
    "nbpresent": {
     "id": "2bf1208b-1dd9-4ac9-8396-9693c4e188fd"
    },
    "slideshow": {
     "slide_type": "notes"
    }
   },
   "source": [
    "#### In pandas while parsing the column some functions will throw index error due to NaN. So fill up the NaN with some meaningful values."
   ]
  },
  {
   "cell_type": "code",
   "execution_count": null,
   "metadata": {
    "nbpresent": {
     "id": "22593e8f-4cd9-400b-8f8e-0ae48ea13e0d"
    },
    "slideshow": {
     "slide_type": "slide"
    }
   },
   "outputs": [],
   "source": [
    "income_data.count()"
   ]
  },
  {
   "cell_type": "code",
   "execution_count": null,
   "metadata": {
    "collapsed": true,
    "nbpresent": {
     "id": "9426f9b7-4e54-4d67-a313-3173071cd134"
    }
   },
   "outputs": [],
   "source": [
    "income_data['Income'] = income_data['Income'].replace( '[\\$,)]','', regex=True ).astype('float')"
   ]
  },
  {
   "cell_type": "code",
   "execution_count": null,
   "metadata": {
    "collapsed": true,
    "nbpresent": {
     "id": "9acf7c63-bd9a-44ae-bf80-876aa016eb42"
    }
   },
   "outputs": [],
   "source": [
    "def norma_income(x):\n",
    "    try:\n",
    "        if len(str(int(x))) <= 2 :\n",
    "            x = x*1000\n",
    "        elif len(str(int(x))) <= 3:\n",
    "            x=x*100\n",
    "        elif len(str(int(x))) <= 4:\n",
    "            x=x*10\n",
    "        return x\n",
    "    except ValueError :\n",
    "        return x"
   ]
  },
  {
   "cell_type": "code",
   "execution_count": null,
   "metadata": {},
   "outputs": [],
   "source": [
    "income_data['Income'] = income_data['Income'].apply(norma_income)"
   ]
  },
  {
   "cell_type": "code",
   "execution_count": null,
   "metadata": {},
   "outputs": [],
   "source": [
    "income_data.head(3)"
   ]
  },
  {
   "cell_type": "code",
   "execution_count": null,
   "metadata": {
    "scrolled": true
   },
   "outputs": [],
   "source": [
    "income_data['Sex'] = income_data['Sex'].apply(lambda x : \"Male\" if x == \"M\" or x == \"Male\" else \"Female\")"
   ]
  },
  {
   "cell_type": "code",
   "execution_count": null,
   "metadata": {},
   "outputs": [],
   "source": [
    "income_data.describe()"
   ]
  },
  {
   "cell_type": "code",
   "execution_count": null,
   "metadata": {
    "scrolled": true
   },
   "outputs": [],
   "source": [
    "income_data = income_data[((income_data['Age']<63) | (income_data['Age'].isnull())) & \\\n",
    "                                ((income_data['Income']> 10000) | (income_data['Income'].isnull()))].reset_index(drop=1)"
   ]
  },
  {
   "cell_type": "code",
   "execution_count": null,
   "metadata": {},
   "outputs": [],
   "source": [
    "income_data.describe()"
   ]
  },
  {
   "cell_type": "code",
   "execution_count": null,
   "metadata": {},
   "outputs": [],
   "source": [
    "income_data = income_data.fillna(income_data.mean())"
   ]
  },
  {
   "cell_type": "code",
   "execution_count": null,
   "metadata": {},
   "outputs": [],
   "source": [
    "income_data['Occupation']= income_data['Occupation'].fillna('Other')"
   ]
  },
  {
   "cell_type": "raw",
   "metadata": {
    "collapsed": true
   },
   "source": [
    "data_columns_2 = pd.DataFrame()\n",
    "data_columns_2['Age'] = income_data[['Age']].fillna(income_data[(income_data != income_data.max()) & (income_data != income_data.min())].mean())"
   ]
  },
  {
   "cell_type": "code",
   "execution_count": null,
   "metadata": {
    "collapsed": true
   },
   "outputs": [],
   "source": [
    "income_data[[\"Age\",\"Income\"]] = income_data[[\"Age\",\"Income\"]].astype(int)"
   ]
  },
  {
   "cell_type": "code",
   "execution_count": null,
   "metadata": {
    "scrolled": true
   },
   "outputs": [],
   "source": [
    "income_data"
   ]
  },
  {
   "cell_type": "code",
   "execution_count": null,
   "metadata": {
    "collapsed": true,
    "nbpresent": {
     "id": "e3287cb9-108e-4f49-bec9-91d04ad045ec"
    },
    "scrolled": true
   },
   "outputs": [],
   "source": [
    "#incom[\"incom1\"] = incom[\"incom\"].apply(lambda x : x*1000 if len(str(int(x))) <= 2 else x*10)"
   ]
  }
 ],
 "metadata": {
  "anaconda-cloud": {},
  "kernelspec": {
   "display_name": "Python 2",
   "language": "python",
   "name": "python2"
  },
  "language_info": {
   "codemirror_mode": {
    "name": "ipython",
    "version": 2
   },
   "file_extension": ".py",
   "mimetype": "text/x-python",
   "name": "python",
   "nbconvert_exporter": "python",
   "pygments_lexer": "ipython2",
   "version": "2.7.13"
  },
  "nbpresent": {
   "slides": {
    "051eda0d-6c49-4acd-9d64-8a88127aed05": {
     "id": "051eda0d-6c49-4acd-9d64-8a88127aed05",
     "prev": "8c3fa784-c475-4b9e-a530-72948bf291e1",
     "regions": {
      "2edea0b6-121b-4128-8d7d-fbb4f3f3c007": {
       "attrs": {
        "height": 0.8,
        "width": 0.8,
        "x": 0.1,
        "y": 0.1
       },
       "content": {
        "cell": "5e504797-4fc9-470b-aff1-8edb9ed760e5",
        "part": "whole"
       },
       "id": "2edea0b6-121b-4128-8d7d-fbb4f3f3c007"
      }
     }
    },
    "056e690c-1fd7-4a98-aa14-fa96026589f2": {
     "id": "056e690c-1fd7-4a98-aa14-fa96026589f2",
     "prev": "fcc53416-f862-4ce9-9cff-de5eac79f0fa",
     "regions": {
      "bd3c30a7-71db-456a-9421-7983a7823406": {
       "attrs": {
        "height": 0.8,
        "width": 0.8,
        "x": 0.1,
        "y": 0.1
       },
       "content": {
        "cell": "a7ed69cf-da44-4dfe-bd29-8765e1de8818",
        "part": "whole"
       },
       "id": "bd3c30a7-71db-456a-9421-7983a7823406"
      }
     }
    },
    "1866155c-9a98-4e7d-8e29-05e522346ff9": {
     "id": "1866155c-9a98-4e7d-8e29-05e522346ff9",
     "prev": "b9d97f57-2f88-4d34-aa8b-dad66e32343a",
     "regions": {
      "dc4fa0da-64b7-4273-af49-f7e85f2a4f1a": {
       "attrs": {
        "height": 0.8,
        "width": 0.8,
        "x": 0.1,
        "y": 0.1
       },
       "content": {
        "cell": "16ca36b6-5b45-42c8-bdf5-d93477ab4731",
        "part": "whole"
       },
       "id": "dc4fa0da-64b7-4273-af49-f7e85f2a4f1a"
      }
     }
    },
    "19d07407-a281-4b1e-a130-ffe28e6b6c64": {
     "id": "19d07407-a281-4b1e-a130-ffe28e6b6c64",
     "prev": "5cd53fe8-c7cd-4bcb-9aaf-dee937ef3b34",
     "regions": {
      "30c36c66-36e4-4b1d-8d00-b198f3f4783f": {
       "attrs": {
        "height": 0.8,
        "width": 0.8,
        "x": 0.1,
        "y": 0.1
       },
       "content": {
        "cell": "4bb541e1-b143-4663-88c5-60400923b2ff",
        "part": "whole"
       },
       "id": "30c36c66-36e4-4b1d-8d00-b198f3f4783f"
      }
     }
    },
    "1aca7c69-cd8c-4129-92ac-51e254a216ac": {
     "id": "1aca7c69-cd8c-4129-92ac-51e254a216ac",
     "prev": "eaf3a313-eeca-46c4-9d5a-718d5734efae",
     "regions": {
      "1fdb502f-3816-47d8-a408-518ef3cea8c9": {
       "attrs": {
        "height": 0.8,
        "width": 0.8,
        "x": 0.1,
        "y": 0.1
       },
       "content": {
        "cell": "8c5c0fe1-1284-4462-a016-c7cefaa36673",
        "part": "whole"
       },
       "id": "1fdb502f-3816-47d8-a408-518ef3cea8c9"
      }
     }
    },
    "1d18ea80-a219-43e7-9faf-88cf86471bbf": {
     "id": "1d18ea80-a219-43e7-9faf-88cf86471bbf",
     "prev": "2f201afe-8171-4de7-aad2-111cd96e4c80",
     "regions": {
      "d8205de8-7387-42b1-8560-05659a7044f6": {
       "attrs": {
        "height": 0.8,
        "width": 0.8,
        "x": 0.1,
        "y": 0.1
       },
       "content": {
        "cell": "e3287cb9-108e-4f49-bec9-91d04ad045ec",
        "part": "whole"
       },
       "id": "d8205de8-7387-42b1-8560-05659a7044f6"
      }
     }
    },
    "1ed8c1ef-eca1-466a-8ecc-d14741a90382": {
     "id": "1ed8c1ef-eca1-466a-8ecc-d14741a90382",
     "prev": "935061b8-213a-4670-b548-a924b69ada9d",
     "regions": {
      "98e7e497-e4cb-4245-a089-1cc46db523ec": {
       "attrs": {
        "height": 0.8,
        "width": 0.8,
        "x": 0.1,
        "y": 0.1
       },
       "content": {
        "cell": "6ef84112-ce2f-4679-abdb-4eafc1612c63",
        "part": "whole"
       },
       "id": "98e7e497-e4cb-4245-a089-1cc46db523ec"
      }
     }
    },
    "219b9cdb-ec91-4818-a05c-c0cde3d4a278": {
     "id": "219b9cdb-ec91-4818-a05c-c0cde3d4a278",
     "prev": "f34c13db-83de-4f12-8136-74248852c7e8",
     "regions": {
      "5adeb00e-09d5-4fce-9a92-7c972f942207": {
       "attrs": {
        "height": 0.8,
        "width": 0.8,
        "x": 0.1,
        "y": 0.1
       },
       "content": {
        "cell": "d5237e04-da0d-4463-939f-d9bc220d42aa",
        "part": "whole"
       },
       "id": "5adeb00e-09d5-4fce-9a92-7c972f942207"
      }
     }
    },
    "242d1cbd-0608-418d-b295-20c8714ffb11": {
     "id": "242d1cbd-0608-418d-b295-20c8714ffb11",
     "prev": "7d67db05-6146-46bf-be40-199b1ff5f4d9",
     "regions": {
      "b304b9d1-1891-4b53-a55f-af64dc941795": {
       "attrs": {
        "height": 0.8,
        "width": 0.8,
        "x": 0.1,
        "y": 0.1
       },
       "content": {
        "cell": "9426f9b7-4e54-4d67-a313-3173071cd134",
        "part": "whole"
       },
       "id": "b304b9d1-1891-4b53-a55f-af64dc941795"
      }
     }
    },
    "2aba729b-b6c4-4a7e-bb45-33afac2563fd": {
     "id": "2aba729b-b6c4-4a7e-bb45-33afac2563fd",
     "prev": "8c346278-9437-40cb-aa76-06d3353e0a10",
     "regions": {
      "37381f90-5400-4fac-bf06-337a889d901c": {
       "attrs": {
        "height": 0.8,
        "width": 0.8,
        "x": 0.1,
        "y": 0.1
       },
       "content": {
        "cell": "b4583dd5-a89d-4041-abd7-3d9f990e6125",
        "part": "whole"
       },
       "id": "37381f90-5400-4fac-bf06-337a889d901c"
      }
     }
    },
    "2ea99dad-feb8-43c9-a5b2-95bc2a5d3df1": {
     "id": "2ea99dad-feb8-43c9-a5b2-95bc2a5d3df1",
     "prev": "7d7ebdc3-cde8-4aad-bc70-2c715ddea4fe",
     "regions": {
      "f695c00f-fd9d-4166-ba5a-520165068186": {
       "attrs": {
        "height": 0.8,
        "width": 0.8,
        "x": 0.1,
        "y": 0.1
       },
       "content": {
        "cell": "d0ed6ea8-c1ee-4559-89ef-81b002eb1b1b",
        "part": "whole"
       },
       "id": "f695c00f-fd9d-4166-ba5a-520165068186"
      }
     }
    },
    "2f201afe-8171-4de7-aad2-111cd96e4c80": {
     "id": "2f201afe-8171-4de7-aad2-111cd96e4c80",
     "prev": "88e40a3b-6fa8-4dbb-880e-cd619e584f00",
     "regions": {
      "8fe2859f-2db2-40c4-9eec-509a8e60b640": {
       "attrs": {
        "height": 0.8,
        "width": 0.8,
        "x": 0.1,
        "y": 0.1
       },
       "content": {
        "cell": "ff63647b-2f17-4e10-8b28-7d97d2671dd5",
        "part": "whole"
       },
       "id": "8fe2859f-2db2-40c4-9eec-509a8e60b640"
      }
     }
    },
    "3110f1b5-2ab9-4b9f-a7d0-aa033810b699": {
     "id": "3110f1b5-2ab9-4b9f-a7d0-aa033810b699",
     "prev": "d82de140-5a78-4c92-907f-a3d08d218f1a",
     "regions": {
      "ebba7482-8e0e-41c3-a66b-76a9e2cf11b2": {
       "attrs": {
        "height": 0.8,
        "width": 0.8,
        "x": 0.1,
        "y": 0.1
       },
       "content": {
        "cell": "58495ea9-3dee-4969-a45b-faf8270c4141",
        "part": "whole"
       },
       "id": "ebba7482-8e0e-41c3-a66b-76a9e2cf11b2"
      }
     }
    },
    "337a514c-3626-4697-a1e2-7f9371d49fa3": {
     "id": "337a514c-3626-4697-a1e2-7f9371d49fa3",
     "prev": "b631786c-eee9-42d2-84fc-7c8fbc4fbeb4",
     "regions": {
      "bc43a04e-c048-4dcc-b0bd-3ffd835c1475": {
       "attrs": {
        "height": 0.8,
        "width": 0.8,
        "x": 0.1,
        "y": 0.1
       },
       "content": {
        "cell": "ab7ee224-d3e5-4127-a0df-81e726c8ea75",
        "part": "whole"
       },
       "id": "bc43a04e-c048-4dcc-b0bd-3ffd835c1475"
      }
     }
    },
    "348d4822-421f-41a3-9fac-b4899eb7cbe2": {
     "id": "348d4822-421f-41a3-9fac-b4899eb7cbe2",
     "prev": "5b1c7de8-fb35-4258-8076-c839e7f361b0",
     "regions": {
      "14a0acc2-eeb6-427e-96f5-39223a5a6761": {
       "attrs": {
        "height": 0.8,
        "width": 0.8,
        "x": 0.1,
        "y": 0.1
       },
       "content": {
        "cell": "7cbb427a-1954-4066-a526-bdbb0330a8b9",
        "part": "whole"
       },
       "id": "14a0acc2-eeb6-427e-96f5-39223a5a6761"
      }
     }
    },
    "38345b7c-3caa-4d2f-a092-e03b46a94825": {
     "id": "38345b7c-3caa-4d2f-a092-e03b46a94825",
     "prev": "99afb11f-81e7-49dd-8915-87fefbea941e",
     "regions": {
      "c17f4f7f-f832-49f2-9f95-3d39243058e7": {
       "attrs": {
        "height": 0.8,
        "width": 0.8,
        "x": 0.1,
        "y": 0.1
       },
       "content": {
        "cell": "7d2b6bf1-7379-49e2-8e42-9bdcd7d674a1",
        "part": "whole"
       },
       "id": "c17f4f7f-f832-49f2-9f95-3d39243058e7"
      }
     }
    },
    "3a0513c3-91f0-4637-a071-dbde80bdc47e": {
     "id": "3a0513c3-91f0-4637-a071-dbde80bdc47e",
     "prev": "46321465-cd75-4e46-a0e4-29651afb9f90",
     "regions": {
      "1da1a88d-568a-4e1c-b5e9-2e729100079c": {
       "attrs": {
        "height": 0.8,
        "width": 0.8,
        "x": 0.1,
        "y": 0.1
       },
       "content": {
        "cell": "d9ad18a8-8255-4df0-808a-f79ea7f262a0",
        "part": "whole"
       },
       "id": "1da1a88d-568a-4e1c-b5e9-2e729100079c"
      }
     }
    },
    "3d0cc104-2b6c-492e-bdca-cc355aa5f7eb": {
     "id": "3d0cc104-2b6c-492e-bdca-cc355aa5f7eb",
     "prev": "19d07407-a281-4b1e-a130-ffe28e6b6c64",
     "regions": {
      "c96b1a32-514d-4998-845d-8a625c03c431": {
       "attrs": {
        "height": 0.8,
        "width": 0.8,
        "x": 0.1,
        "y": 0.1
       },
       "content": {
        "cell": "31c4c72b-2ce0-4e31-811a-0a9c37b28392",
        "part": "whole"
       },
       "id": "c96b1a32-514d-4998-845d-8a625c03c431"
      }
     }
    },
    "3d9f7e01-3ee9-4abd-ac14-adbf465e7471": {
     "id": "3d9f7e01-3ee9-4abd-ac14-adbf465e7471",
     "prev": "051eda0d-6c49-4acd-9d64-8a88127aed05",
     "regions": {
      "ee8f952e-c2a8-4f0d-bbb0-ab154a15b8b1": {
       "attrs": {
        "height": 0.8,
        "width": 0.8,
        "x": 0.1,
        "y": 0.1
       },
       "content": {
        "cell": "d362ba3e-38e7-4431-91b6-03f4466d9305",
        "part": "whole"
       },
       "id": "ee8f952e-c2a8-4f0d-bbb0-ab154a15b8b1"
      }
     }
    },
    "46321465-cd75-4e46-a0e4-29651afb9f90": {
     "id": "46321465-cd75-4e46-a0e4-29651afb9f90",
     "prev": "531dd169-92c4-4c44-8804-9c7b94c62228",
     "regions": {
      "2f6d67f7-bc8a-49c5-af60-a6c007484060": {
       "attrs": {
        "height": 0.8,
        "width": 0.8,
        "x": 0.1,
        "y": 0.1
       },
       "content": {
        "cell": "5c8c846d-f7f9-4ec3-a98e-9d6911d4dbc3",
        "part": "whole"
       },
       "id": "2f6d67f7-bc8a-49c5-af60-a6c007484060"
      }
     }
    },
    "531dd169-92c4-4c44-8804-9c7b94c62228": {
     "id": "531dd169-92c4-4c44-8804-9c7b94c62228",
     "prev": "1aca7c69-cd8c-4129-92ac-51e254a216ac",
     "regions": {
      "a13e04f5-5415-4d06-906f-46a55fe6e0a2": {
       "attrs": {
        "height": 0.8,
        "width": 0.8,
        "x": 0.1,
        "y": 0.1
       },
       "content": {
        "cell": "c2d3857b-b0ea-4941-8ebe-4d4c0b7dd79d",
        "part": "whole"
       },
       "id": "a13e04f5-5415-4d06-906f-46a55fe6e0a2"
      }
     }
    },
    "53dec7ae-f8a5-4b1e-aac5-2f4158318330": {
     "id": "53dec7ae-f8a5-4b1e-aac5-2f4158318330",
     "prev": "5f909042-6b68-43fe-82e8-e6bf16b92a63",
     "regions": {
      "be880fa2-c435-4f41-b51c-bc7af578502e": {
       "attrs": {
        "height": 0.8,
        "width": 0.8,
        "x": 0.1,
        "y": 0.1
       },
       "content": {
        "cell": "0a4c4198-221b-4121-9d72-5467b49f97aa",
        "part": "whole"
       },
       "id": "be880fa2-c435-4f41-b51c-bc7af578502e"
      }
     }
    },
    "553ebccb-ed73-40ab-a75a-a88b0b79932f": {
     "id": "553ebccb-ed73-40ab-a75a-a88b0b79932f",
     "prev": "3d9f7e01-3ee9-4abd-ac14-adbf465e7471",
     "regions": {
      "4d21d1f9-fdd7-4fcf-b375-38f869566706": {
       "attrs": {
        "height": 0.8,
        "width": 0.8,
        "x": 0.1,
        "y": 0.1
       },
       "content": {
        "cell": "a51bda4b-299b-474b-9ca9-f8856e77dd13",
        "part": "whole"
       },
       "id": "4d21d1f9-fdd7-4fcf-b375-38f869566706"
      }
     }
    },
    "5ad854e4-d9e4-4f88-84ef-ce8a13db0e82": {
     "id": "5ad854e4-d9e4-4f88-84ef-ce8a13db0e82",
     "prev": "bac5516a-f421-4548-a378-f6d9623748e4",
     "regions": {
      "1110e99d-2d32-4fb9-a5a9-a52cfa5b5b7b": {
       "attrs": {
        "height": 0.8,
        "width": 0.8,
        "x": 0.1,
        "y": 0.1
       },
       "content": {
        "cell": "807300ec-a52d-431d-b1fa-5030a160699c",
        "part": "whole"
       },
       "id": "1110e99d-2d32-4fb9-a5a9-a52cfa5b5b7b"
      }
     }
    },
    "5b1c7de8-fb35-4258-8076-c839e7f361b0": {
     "id": "5b1c7de8-fb35-4258-8076-c839e7f361b0",
     "prev": "1d18ea80-a219-43e7-9faf-88cf86471bbf",
     "regions": {
      "76b113bf-0c92-4fa5-b4a0-c7f4c2a29308": {
       "attrs": {
        "height": 0.8,
        "width": 0.8,
        "x": 0.1,
        "y": 0.1
       },
       "content": {
        "cell": "cdb35d3d-de12-46b5-819c-6b996a780869",
        "part": "whole"
       },
       "id": "76b113bf-0c92-4fa5-b4a0-c7f4c2a29308"
      }
     }
    },
    "5cd53fe8-c7cd-4bcb-9aaf-dee937ef3b34": {
     "id": "5cd53fe8-c7cd-4bcb-9aaf-dee937ef3b34",
     "prev": "056e690c-1fd7-4a98-aa14-fa96026589f2",
     "regions": {
      "4c3d3a49-f196-4d40-a481-5aec8e9d0aac": {
       "attrs": {
        "height": 0.8,
        "width": 0.8,
        "x": 0.1,
        "y": 0.1
       },
       "content": {
        "cell": "04930cb1-8364-409f-bbfc-ea3d9800be82",
        "part": "whole"
       },
       "id": "4c3d3a49-f196-4d40-a481-5aec8e9d0aac"
      }
     }
    },
    "5f909042-6b68-43fe-82e8-e6bf16b92a63": {
     "id": "5f909042-6b68-43fe-82e8-e6bf16b92a63",
     "prev": "71b4cfa4-e801-49e5-98ac-71b2c138af08",
     "regions": {
      "3f439748-11f0-4275-838e-4bd4ccca31ca": {
       "attrs": {
        "height": 0.8,
        "width": 0.8,
        "x": 0.1,
        "y": 0.1
       },
       "content": {
        "cell": "9396a205-dec8-4acf-9f98-6edb848e8638",
        "part": "whole"
       },
       "id": "3f439748-11f0-4275-838e-4bd4ccca31ca"
      }
     }
    },
    "67ad36e6-a60e-4681-8131-492bf4722646": {
     "id": "67ad36e6-a60e-4681-8131-492bf4722646",
     "prev": "38345b7c-3caa-4d2f-a092-e03b46a94825",
     "regions": {
      "135b7037-a7d8-4391-b643-9de411e556ae": {
       "attrs": {
        "height": 0.8,
        "width": 0.8,
        "x": 0.1,
        "y": 0.1
       },
       "content": {
        "cell": "5ae47100-b6cf-4f2f-ac6b-02a209a6c763",
        "part": "whole"
       },
       "id": "135b7037-a7d8-4391-b643-9de411e556ae"
      }
     }
    },
    "6d7217ff-e48f-4413-bc5c-afcfa645bc26": {
     "id": "6d7217ff-e48f-4413-bc5c-afcfa645bc26",
     "prev": "53dec7ae-f8a5-4b1e-aac5-2f4158318330",
     "regions": {
      "57861ad0-8552-48e0-b97c-2ced2bf93144": {
       "attrs": {
        "height": 0.8,
        "width": 0.8,
        "x": 0.1,
        "y": 0.1
       },
       "content": {
        "cell": "5563b607-e90a-4845-b3e0-ccdec3aa9a02",
        "part": "whole"
       },
       "id": "57861ad0-8552-48e0-b97c-2ced2bf93144"
      }
     }
    },
    "6f2524ce-fc86-4e94-a7d8-cc72df5afc5c": {
     "id": "6f2524ce-fc86-4e94-a7d8-cc72df5afc5c",
     "prev": "337a514c-3626-4697-a1e2-7f9371d49fa3",
     "regions": {
      "5f2c0428-c01a-44e7-9fb4-d7d4098e021e": {
       "attrs": {
        "height": 0.8,
        "width": 0.8,
        "x": 0.1,
        "y": 0.1
       },
       "content": {
        "cell": "2311349e-8c4d-41e4-ad7c-7cf9754d4c3f",
        "part": "whole"
       },
       "id": "5f2c0428-c01a-44e7-9fb4-d7d4098e021e"
      }
     }
    },
    "71b4cfa4-e801-49e5-98ac-71b2c138af08": {
     "id": "71b4cfa4-e801-49e5-98ac-71b2c138af08",
     "prev": "c7cea5d6-4c53-4610-b367-7b40458bcd86",
     "regions": {
      "27f39931-ad29-4c58-830b-13d9adc60329": {
       "attrs": {
        "height": 0.8,
        "width": 0.8,
        "x": 0.1,
        "y": 0.1
       },
       "content": {
        "cell": "bd20f94d-b214-4b27-bcdd-790cb413bfcb",
        "part": "whole"
       },
       "id": "27f39931-ad29-4c58-830b-13d9adc60329"
      }
     }
    },
    "75a70015-8183-47be-9abd-d0e37943c70c": {
     "id": "75a70015-8183-47be-9abd-d0e37943c70c",
     "prev": "219b9cdb-ec91-4818-a05c-c0cde3d4a278",
     "regions": {
      "94070ede-7fb2-4e0b-b1de-ca82fe328a5b": {
       "attrs": {
        "height": 0.8,
        "width": 0.8,
        "x": 0.1,
        "y": 0.1
       },
       "content": {
        "cell": "fe2d7af2-81f2-4662-8b78-3ea9c931cc21",
        "part": "whole"
       },
       "id": "94070ede-7fb2-4e0b-b1de-ca82fe328a5b"
      }
     }
    },
    "76956034-2b9f-4d82-8b24-20fed6f1fe82": {
     "id": "76956034-2b9f-4d82-8b24-20fed6f1fe82",
     "prev": "3d0cc104-2b6c-492e-bdca-cc355aa5f7eb",
     "regions": {
      "8701b75c-6c85-49bf-9605-ba97259650cb": {
       "attrs": {
        "height": 0.8,
        "width": 0.8,
        "x": 0.1,
        "y": 0.1
       },
       "content": {
        "cell": "2bf1208b-1dd9-4ac9-8396-9693c4e188fd",
        "part": "whole"
       },
       "id": "8701b75c-6c85-49bf-9605-ba97259650cb"
      }
     }
    },
    "7d67db05-6146-46bf-be40-199b1ff5f4d9": {
     "id": "7d67db05-6146-46bf-be40-199b1ff5f4d9",
     "prev": "6d7217ff-e48f-4413-bc5c-afcfa645bc26",
     "regions": {
      "c8cc74c1-3f06-4e25-b40c-31bfe69058f5": {
       "attrs": {
        "height": 0.8,
        "width": 0.8,
        "x": 0.1,
        "y": 0.1
       },
       "content": {
        "cell": "4ce00ed1-1533-437b-bde7-9b3ff77e5627",
        "part": "whole"
       },
       "id": "c8cc74c1-3f06-4e25-b40c-31bfe69058f5"
      }
     }
    },
    "7d7ebdc3-cde8-4aad-bc70-2c715ddea4fe": {
     "id": "7d7ebdc3-cde8-4aad-bc70-2c715ddea4fe",
     "prev": "242d1cbd-0608-418d-b295-20c8714ffb11",
     "regions": {
      "e07b3099-eda8-48f1-af8e-0dff242af289": {
       "attrs": {
        "height": 0.8,
        "width": 0.8,
        "x": 0.1,
        "y": 0.1
       },
       "content": {
        "cell": "5894b803-e054-4811-b4c6-3188e866658f",
        "part": "whole"
       },
       "id": "e07b3099-eda8-48f1-af8e-0dff242af289"
      }
     }
    },
    "855981d0-4108-40d8-8937-98ea9df1d57a": {
     "id": "855981d0-4108-40d8-8937-98ea9df1d57a",
     "prev": "2aba729b-b6c4-4a7e-bb45-33afac2563fd",
     "regions": {
      "8d76f1ad-aeed-4a47-a833-445e2cf0b933": {
       "attrs": {
        "height": 0.8,
        "width": 0.8,
        "x": 0.1,
        "y": 0.1
       },
       "content": {
        "cell": "ba68adab-4f76-4c31-89b8-411f8192117b",
        "part": "whole"
       },
       "id": "8d76f1ad-aeed-4a47-a833-445e2cf0b933"
      }
     }
    },
    "88e40a3b-6fa8-4dbb-880e-cd619e584f00": {
     "id": "88e40a3b-6fa8-4dbb-880e-cd619e584f00",
     "prev": "855981d0-4108-40d8-8937-98ea9df1d57a",
     "regions": {
      "6c33fbbd-68e8-4ae9-8a70-de110fda3bd5": {
       "attrs": {
        "height": 0.8,
        "width": 0.8,
        "x": 0.1,
        "y": 0.1
       },
       "content": {
        "cell": "9acf7c63-bd9a-44ae-bf80-876aa016eb42",
        "part": "whole"
       },
       "id": "6c33fbbd-68e8-4ae9-8a70-de110fda3bd5"
      }
     }
    },
    "8b54dc61-8ddc-46a4-ae52-a2efdc16ed6a": {
     "id": "8b54dc61-8ddc-46a4-ae52-a2efdc16ed6a",
     "prev": null,
     "regions": {
      "1d6b0961-c038-4f98-a0a7-db297e83b7da": {
       "attrs": {
        "height": 0.8,
        "width": 0.8,
        "x": 0.1,
        "y": 0.1
       },
       "content": {
        "cell": "f6da1a2a-25f4-4ee1-850b-ca9c0c6c7563",
        "part": "whole"
       },
       "id": "1d6b0961-c038-4f98-a0a7-db297e83b7da"
      }
     },
     "theme": null
    },
    "8c346278-9437-40cb-aa76-06d3353e0a10": {
     "id": "8c346278-9437-40cb-aa76-06d3353e0a10",
     "prev": "75a70015-8183-47be-9abd-d0e37943c70c",
     "regions": {
      "9decda86-67fa-4898-bf12-24f5cef825ee": {
       "attrs": {
        "height": 0.8,
        "width": 0.8,
        "x": 0.1,
        "y": 0.1
       },
       "content": {
        "cell": "43252e09-2bca-4a0d-9953-9c19bd7926b9",
        "part": "whole"
       },
       "id": "9decda86-67fa-4898-bf12-24f5cef825ee"
      }
     }
    },
    "8c3fa784-c475-4b9e-a530-72948bf291e1": {
     "id": "8c3fa784-c475-4b9e-a530-72948bf291e1",
     "prev": "a33edccf-b3f7-49a6-af38-6c5014278da3",
     "regions": {
      "9037104a-f327-4324-9894-bd96e7e5a10f": {
       "attrs": {
        "height": 0.8,
        "width": 0.8,
        "x": 0.1,
        "y": 0.1
       },
       "content": {
        "cell": "3702a76b-f531-40d5-9a32-bc5f7ed4c543",
        "part": "whole"
       },
       "id": "9037104a-f327-4324-9894-bd96e7e5a10f"
      }
     }
    },
    "8dcd4dcc-9f8a-42a6-aec0-a06d4f3254b8": {
     "id": "8dcd4dcc-9f8a-42a6-aec0-a06d4f3254b8",
     "prev": "3a0513c3-91f0-4637-a071-dbde80bdc47e",
     "regions": {
      "c62d77cf-a4b5-48a5-b399-50ddc7164d92": {
       "attrs": {
        "height": 0.8,
        "width": 0.8,
        "x": 0.1,
        "y": 0.1
       },
       "content": {
        "cell": "1a06fdac-2c3f-4cda-a51c-2797b3c75721",
        "part": "whole"
       },
       "id": "c62d77cf-a4b5-48a5-b399-50ddc7164d92"
      }
     }
    },
    "935061b8-213a-4670-b548-a924b69ada9d": {
     "id": "935061b8-213a-4670-b548-a924b69ada9d",
     "layout": "manual",
     "prev": "1866155c-9a98-4e7d-8e29-05e522346ff9",
     "regions": {
      "fcd161f9-0af4-4b46-ab7c-808a69749e3a": {
       "attrs": {
        "height": 0.8,
        "width": 0.8,
        "x": 0.1,
        "y": 0.1
       },
       "content": {
        "cell": "a9837877-5ecb-4391-825b-d9f0cd30411e",
        "part": "whole"
       },
       "id": "fcd161f9-0af4-4b46-ab7c-808a69749e3a"
      }
     }
    },
    "972800ce-b820-40b4-90c3-3859dabfe418": {
     "id": "972800ce-b820-40b4-90c3-3859dabfe418",
     "prev": "dca8c179-710e-4fd4-8f48-099b09e39ab7",
     "regions": {
      "16c37c3f-aa43-4bbe-aab8-139a402398a6": {
       "attrs": {
        "height": 0.8,
        "width": 0.8,
        "x": 0.1,
        "y": 0.1
       },
       "content": {
        "cell": "c915bc84-5ebf-480a-82fb-923bb7a5b208",
        "part": "whole"
       },
       "id": "16c37c3f-aa43-4bbe-aab8-139a402398a6"
      }
     }
    },
    "99afb11f-81e7-49dd-8915-87fefbea941e": {
     "id": "99afb11f-81e7-49dd-8915-87fefbea941e",
     "prev": "2ea99dad-feb8-43c9-a5b2-95bc2a5d3df1",
     "regions": {
      "03ed9c0d-2d79-451c-b7f0-0ea51ee426c7": {
       "attrs": {
        "height": 0.8,
        "width": 0.8,
        "x": 0.1,
        "y": 0.1
       },
       "content": {
        "cell": "fc1d9c97-791e-4180-98a4-9d30cde55216",
        "part": "whole"
       },
       "id": "03ed9c0d-2d79-451c-b7f0-0ea51ee426c7"
      }
     }
    },
    "a23e7f04-5be2-4f76-ba2e-df9a9b23f890": {
     "id": "a23e7f04-5be2-4f76-ba2e-df9a9b23f890",
     "prev": "6f2524ce-fc86-4e94-a7d8-cc72df5afc5c",
     "regions": {
      "71d81923-ae9e-47e1-a3cc-b643ca954a51": {
       "attrs": {
        "height": 0.8,
        "width": 0.8,
        "x": 0.1,
        "y": 0.1
       },
       "content": {
        "cell": "79e62a49-46fb-4bd6-8a14-f8c6dc5973bc",
        "part": "whole"
       },
       "id": "71d81923-ae9e-47e1-a3cc-b643ca954a51"
      }
     }
    },
    "a33edccf-b3f7-49a6-af38-6c5014278da3": {
     "id": "a33edccf-b3f7-49a6-af38-6c5014278da3",
     "prev": "e9ce95c8-17ae-425c-bf90-973db6c3ad5f",
     "regions": {
      "4226c137-6997-4615-ae3a-69211b10299e": {
       "attrs": {
        "height": 0.8,
        "width": 0.8,
        "x": 0.1,
        "y": 0.1
       },
       "content": {
        "cell": "69e49278-85c6-481d-ae61-c5f5ca7b5b8a",
        "part": "whole"
       },
       "id": "4226c137-6997-4615-ae3a-69211b10299e"
      }
     }
    },
    "a6f6e0b2-6579-46a2-9939-db20d6e28ffe": {
     "id": "a6f6e0b2-6579-46a2-9939-db20d6e28ffe",
     "prev": "1ed8c1ef-eca1-466a-8ecc-d14741a90382",
     "regions": {
      "347eb1be-945f-47f7-81a4-df8058bacf48": {
       "attrs": {
        "height": 0.8,
        "width": 0.8,
        "x": 0.1,
        "y": 0.1
       },
       "content": {
        "cell": "fc088d5e-5d02-4694-8208-bedc31bc0fc7",
        "part": "whole"
       },
       "id": "347eb1be-945f-47f7-81a4-df8058bacf48"
      }
     }
    },
    "ac587a68-2ea9-4c77-90e3-318cfb13b400": {
     "id": "ac587a68-2ea9-4c77-90e3-318cfb13b400",
     "prev": "8b54dc61-8ddc-46a4-ae52-a2efdc16ed6a",
     "regions": {
      "63170618-85d7-496a-8bab-be31854a7694": {
       "attrs": {
        "height": 0.8,
        "width": 0.8,
        "x": 0.1,
        "y": 0.1
       },
       "content": {
        "cell": "b00f9d96-86f1-40ce-9b4a-06d24d6fa581",
        "part": "whole"
       },
       "id": "63170618-85d7-496a-8bab-be31854a7694"
      }
     }
    },
    "b5ca5483-e1f1-45e0-82a4-aaeae1ffdf57": {
     "id": "b5ca5483-e1f1-45e0-82a4-aaeae1ffdf57",
     "prev": "ac587a68-2ea9-4c77-90e3-318cfb13b400",
     "regions": {
      "579cdb8b-9907-44fd-998b-2dca4f286cf8": {
       "attrs": {
        "height": 0.8,
        "width": 0.8,
        "x": 0.1,
        "y": 0.1
       },
       "content": {
        "cell": "93b97b32-fea7-4ad2-8178-133c39c7010c",
        "part": "whole"
       },
       "id": "579cdb8b-9907-44fd-998b-2dca4f286cf8"
      }
     }
    },
    "b631786c-eee9-42d2-84fc-7c8fbc4fbeb4": {
     "id": "b631786c-eee9-42d2-84fc-7c8fbc4fbeb4",
     "prev": "a6f6e0b2-6579-46a2-9939-db20d6e28ffe",
     "regions": {
      "9d5823ca-c183-403a-a7b2-525da9e511ee": {
       "attrs": {
        "height": 0.8,
        "width": 0.8,
        "x": 0.1,
        "y": 0.1
       },
       "content": {
        "cell": "78fa4587-3173-43ac-a9c1-48b562ad14b1",
        "part": "whole"
       },
       "id": "9d5823ca-c183-403a-a7b2-525da9e511ee"
      }
     }
    },
    "b9d97f57-2f88-4d34-aa8b-dad66e32343a": {
     "id": "b9d97f57-2f88-4d34-aa8b-dad66e32343a",
     "prev": "5ad854e4-d9e4-4f88-84ef-ce8a13db0e82",
     "regions": {
      "1995d5dd-e01d-458a-9c94-97dd947385df": {
       "attrs": {
        "height": 0.8,
        "width": 0.8,
        "x": 0.1,
        "y": 0.1
       },
       "content": {
        "cell": "32e57b41-53ed-4718-a8c6-09dc8bd95adf",
        "part": "whole"
       },
       "id": "1995d5dd-e01d-458a-9c94-97dd947385df"
      }
     }
    },
    "bac5516a-f421-4548-a378-f6d9623748e4": {
     "id": "bac5516a-f421-4548-a378-f6d9623748e4",
     "prev": "348d4822-421f-41a3-9fac-b4899eb7cbe2",
     "regions": {
      "c8948bcd-42ab-458c-9cd8-265a8403f3c1": {
       "attrs": {
        "height": 0.8,
        "width": 0.8,
        "x": 0.1,
        "y": 0.1
       },
       "content": {
        "cell": "f421f6d0-47ff-41c8-943f-604a7fabb0a2",
        "part": "whole"
       },
       "id": "c8948bcd-42ab-458c-9cd8-265a8403f3c1"
      }
     }
    },
    "bc1dfc35-9e6c-4b8e-9053-c5feea3015bc": {
     "id": "bc1dfc35-9e6c-4b8e-9053-c5feea3015bc",
     "prev": "8dcd4dcc-9f8a-42a6-aec0-a06d4f3254b8",
     "regions": {
      "ca39fcff-ad14-4244-a4a2-4c78fb895261": {
       "attrs": {
        "height": 0.8,
        "width": 0.8,
        "x": 0.1,
        "y": 0.1
       },
       "content": {
        "cell": "b369f8b6-13c0-4c04-91d8-a5a2ef545398",
        "part": "whole"
       },
       "id": "ca39fcff-ad14-4244-a4a2-4c78fb895261"
      }
     }
    },
    "c349925e-b3e6-44cd-970e-f22c1cdb5379": {
     "id": "c349925e-b3e6-44cd-970e-f22c1cdb5379",
     "prev": "76956034-2b9f-4d82-8b24-20fed6f1fe82",
     "regions": {
      "29015a0f-6837-4262-ba42-95144455a762": {
       "attrs": {
        "height": 0.8,
        "width": 0.8,
        "x": 0.1,
        "y": 0.1
       },
       "content": {
        "cell": "5a097c5e-108e-485d-bef9-36b82bc61f9f",
        "part": "whole"
       },
       "id": "29015a0f-6837-4262-ba42-95144455a762"
      }
     }
    },
    "c7cea5d6-4c53-4610-b367-7b40458bcd86": {
     "id": "c7cea5d6-4c53-4610-b367-7b40458bcd86",
     "prev": "c349925e-b3e6-44cd-970e-f22c1cdb5379",
     "regions": {
      "07f54468-9539-4652-af61-95db8686b522": {
       "attrs": {
        "height": 0.8,
        "width": 0.8,
        "x": 0.1,
        "y": 0.1
       },
       "content": {
        "cell": "22593e8f-4cd9-400b-8f8e-0ae48ea13e0d",
        "part": "whole"
       },
       "id": "07f54468-9539-4652-af61-95db8686b522"
      }
     }
    },
    "d818cf7a-159c-4bb2-b273-97925137e67d": {
     "id": "d818cf7a-159c-4bb2-b273-97925137e67d",
     "prev": "a23e7f04-5be2-4f76-ba2e-df9a9b23f890",
     "regions": {
      "280aa0cf-327d-4704-8853-7aa3afddd340": {
       "attrs": {
        "height": 0.8,
        "width": 0.8,
        "x": 0.1,
        "y": 0.1
       },
       "content": {
        "cell": "7b98b306-fb1a-40b6-ac5d-8213ad1cb03f",
        "part": "whole"
       },
       "id": "280aa0cf-327d-4704-8853-7aa3afddd340"
      }
     }
    },
    "d82de140-5a78-4c92-907f-a3d08d218f1a": {
     "id": "d82de140-5a78-4c92-907f-a3d08d218f1a",
     "prev": "fafa3a8c-fcd5-46b5-a643-6eb48459a344",
     "regions": {
      "fc6b2139-6aa9-40b2-b6e0-3b8ac3c6dda8": {
       "attrs": {
        "height": 0.8,
        "width": 0.8,
        "x": 0.1,
        "y": 0.1
       },
       "content": {
        "cell": "e1d31989-75c7-450e-aad8-ac888780d724",
        "part": "whole"
       },
       "id": "fc6b2139-6aa9-40b2-b6e0-3b8ac3c6dda8"
      }
     }
    },
    "dca8c179-710e-4fd4-8f48-099b09e39ab7": {
     "id": "dca8c179-710e-4fd4-8f48-099b09e39ab7",
     "prev": "bc1dfc35-9e6c-4b8e-9053-c5feea3015bc",
     "regions": {
      "29ecc6c8-686e-42da-b162-e3298f1cd0c4": {
       "attrs": {
        "height": 0.8,
        "width": 0.8,
        "x": 0.1,
        "y": 0.1
       },
       "content": {
        "cell": "d49b9118-366b-4fdc-9e19-41fd4ea93ebd",
        "part": "whole"
       },
       "id": "29ecc6c8-686e-42da-b162-e3298f1cd0c4"
      }
     }
    },
    "e9ce95c8-17ae-425c-bf90-973db6c3ad5f": {
     "id": "e9ce95c8-17ae-425c-bf90-973db6c3ad5f",
     "prev": "b5ca5483-e1f1-45e0-82a4-aaeae1ffdf57",
     "regions": {
      "06067797-273e-4047-8b0c-f1c43c8718c2": {
       "attrs": {
        "height": 0.8,
        "width": 0.8,
        "x": 0.1,
        "y": 0.1
       },
       "content": {
        "cell": "674d21a2-239a-4fca-8e15-2e735f59f8aa",
        "part": "whole"
       },
       "id": "06067797-273e-4047-8b0c-f1c43c8718c2"
      }
     }
    },
    "eaf3a313-eeca-46c4-9d5a-718d5734efae": {
     "id": "eaf3a313-eeca-46c4-9d5a-718d5734efae",
     "prev": "3110f1b5-2ab9-4b9f-a7d0-aa033810b699",
     "regions": {
      "c57ee8b8-972f-4d8d-8b46-df22ee96000f": {
       "attrs": {
        "height": 0.8,
        "width": 0.8,
        "x": 0.1,
        "y": 0.1
       },
       "content": {
        "cell": "b01efdf5-d082-441c-a191-5239999fec79",
        "part": "whole"
       },
       "id": "c57ee8b8-972f-4d8d-8b46-df22ee96000f"
      }
     }
    },
    "f34c13db-83de-4f12-8136-74248852c7e8": {
     "id": "f34c13db-83de-4f12-8136-74248852c7e8",
     "prev": "67ad36e6-a60e-4681-8131-492bf4722646",
     "regions": {
      "d6a059f9-90d2-409d-b772-8de6eebd1826": {
       "attrs": {
        "height": 0.8,
        "width": 0.8,
        "x": 0.1,
        "y": 0.1
       },
       "content": {
        "cell": "6abc9e5f-e642-4a39-ab3b-80a142f7e95a",
        "part": "whole"
       },
       "id": "d6a059f9-90d2-409d-b772-8de6eebd1826"
      }
     }
    },
    "fafa3a8c-fcd5-46b5-a643-6eb48459a344": {
     "id": "fafa3a8c-fcd5-46b5-a643-6eb48459a344",
     "prev": "d818cf7a-159c-4bb2-b273-97925137e67d",
     "regions": {
      "f95099fe-e775-4fce-aa77-32ca8d70b97f": {
       "attrs": {
        "height": 0.8,
        "width": 0.8,
        "x": 0.1,
        "y": 0.1
       },
       "content": {
        "cell": "ee2982e1-50c6-46e0-a609-85e891634d5b",
        "part": "whole"
       },
       "id": "f95099fe-e775-4fce-aa77-32ca8d70b97f"
      }
     }
    },
    "fc5640c9-d194-4387-8c33-a66e77dc9eb9": {
     "id": "fc5640c9-d194-4387-8c33-a66e77dc9eb9",
     "prev": "972800ce-b820-40b4-90c3-3859dabfe418",
     "regions": {
      "9432a854-7113-4184-b899-ca38117ec975": {
       "attrs": {
        "height": 0.8,
        "width": 0.8,
        "x": 0.1,
        "y": 0.1
       },
       "content": {
        "cell": "525cf221-15a7-4009-adfa-8281ba975c9a",
        "part": "whole"
       },
       "id": "9432a854-7113-4184-b899-ca38117ec975"
      }
     }
    },
    "fcc53416-f862-4ce9-9cff-de5eac79f0fa": {
     "id": "fcc53416-f862-4ce9-9cff-de5eac79f0fa",
     "prev": "553ebccb-ed73-40ab-a75a-a88b0b79932f",
     "regions": {
      "b499382f-8a01-426a-9b4a-bce41c1a18e1": {
       "attrs": {
        "height": 0.8,
        "width": 0.8,
        "x": 0.1,
        "y": 0.1
       },
       "content": {
        "cell": "8fbbdc4d-8314-455a-afbf-ca44507a8a20",
        "part": "whole"
       },
       "id": "b499382f-8a01-426a-9b4a-bce41c1a18e1"
      }
     }
    },
    "ff4af51d-830e-4e63-9442-ceeda3487156": {
     "id": "ff4af51d-830e-4e63-9442-ceeda3487156",
     "prev": "fc5640c9-d194-4387-8c33-a66e77dc9eb9",
     "regions": {
      "624443bf-2181-4b83-8da2-e50cf43b9979": {
       "attrs": {
        "height": 0.8,
        "width": 0.8,
        "x": 0.1,
        "y": 0.1
       },
       "content": {
        "cell": "d7ee9c03-fdbc-4319-b044-253eea0cd7a7",
        "part": "whole"
       },
       "id": "624443bf-2181-4b83-8da2-e50cf43b9979"
      }
     }
    }
   },
   "themes": {
    "default": "92bf2d86-aaed-4a76-b339-698ab904de8d",
    "theme": {
     "3b52177e-ceca-45fb-84bf-3268ba5215d6": {
      "backgrounds": {
       "dc7afa04-bf90-40b1-82a5-726e3cff5267": {
        "background-color": "31af15d2-7e15-44c5-ab5e-e04b16a89eff",
        "id": "dc7afa04-bf90-40b1-82a5-726e3cff5267"
       }
      },
      "id": "3b52177e-ceca-45fb-84bf-3268ba5215d6",
      "palette": {
       "19cc588f-0593-49c9-9f4b-e4d7cc113b1c": {
        "id": "19cc588f-0593-49c9-9f4b-e4d7cc113b1c",
        "rgb": [
         252,
         252,
         252
        ]
       },
       "31af15d2-7e15-44c5-ab5e-e04b16a89eff": {
        "id": "31af15d2-7e15-44c5-ab5e-e04b16a89eff",
        "rgb": [
         68,
         68,
         68
        ]
       },
       "50f92c45-a630-455b-aec3-788680ec7410": {
        "id": "50f92c45-a630-455b-aec3-788680ec7410",
        "rgb": [
         197,
         226,
         245
        ]
       },
       "c5cc3653-2ee1-402a-aba2-7caae1da4f6c": {
        "id": "c5cc3653-2ee1-402a-aba2-7caae1da4f6c",
        "rgb": [
         43,
         126,
         184
        ]
       },
       "efa7f048-9acb-414c-8b04-a26811511a21": {
        "id": "efa7f048-9acb-414c-8b04-a26811511a21",
        "rgb": [
         25.118061674008803,
         73.60176211453744,
         107.4819383259912
        ]
       }
      },
      "rules": {
       "a": {
        "color": "19cc588f-0593-49c9-9f4b-e4d7cc113b1c"
       },
       "blockquote": {
        "color": "50f92c45-a630-455b-aec3-788680ec7410",
        "font-size": 3
       },
       "code": {
        "font-family": "Anonymous Pro"
       },
       "h1": {
        "color": "19cc588f-0593-49c9-9f4b-e4d7cc113b1c",
        "font-family": "Merriweather",
        "font-size": 8
       },
       "h2": {
        "color": "19cc588f-0593-49c9-9f4b-e4d7cc113b1c",
        "font-family": "Merriweather",
        "font-size": 6
       },
       "h3": {
        "color": "50f92c45-a630-455b-aec3-788680ec7410",
        "font-family": "Lato",
        "font-size": 5.5
       },
       "h4": {
        "color": "c5cc3653-2ee1-402a-aba2-7caae1da4f6c",
        "font-family": "Lato",
        "font-size": 5
       },
       "h5": {
        "font-family": "Lato"
       },
       "h6": {
        "font-family": "Lato"
       },
       "h7": {
        "font-family": "Lato"
       },
       "li": {
        "color": "50f92c45-a630-455b-aec3-788680ec7410",
        "font-size": 3.25
       },
       "pre": {
        "font-family": "Anonymous Pro",
        "font-size": 4
       }
      },
      "text-base": {
       "color": "19cc588f-0593-49c9-9f4b-e4d7cc113b1c",
       "font-family": "Lato",
       "font-size": 4
      }
     },
     "4f831716-c3bc-4473-91a0-f0a542ae167d": {
      "id": "4f831716-c3bc-4473-91a0-f0a542ae167d",
      "palette": {
       "19cc588f-0593-49c9-9f4b-e4d7cc113b1c": {
        "id": "19cc588f-0593-49c9-9f4b-e4d7cc113b1c",
        "rgb": [
         252,
         252,
         252
        ]
       },
       "31af15d2-7e15-44c5-ab5e-e04b16a89eff": {
        "id": "31af15d2-7e15-44c5-ab5e-e04b16a89eff",
        "rgb": [
         68,
         68,
         68
        ]
       },
       "50f92c45-a630-455b-aec3-788680ec7410": {
        "id": "50f92c45-a630-455b-aec3-788680ec7410",
        "rgb": [
         155,
         177,
         192
        ]
       },
       "c5cc3653-2ee1-402a-aba2-7caae1da4f6c": {
        "id": "c5cc3653-2ee1-402a-aba2-7caae1da4f6c",
        "rgb": [
         43,
         126,
         184
        ]
       },
       "efa7f048-9acb-414c-8b04-a26811511a21": {
        "id": "efa7f048-9acb-414c-8b04-a26811511a21",
        "rgb": [
         25.118061674008803,
         73.60176211453744,
         107.4819383259912
        ]
       }
      },
      "rules": {
       "blockquote": {
        "color": "50f92c45-a630-455b-aec3-788680ec7410"
       },
       "code": {
        "font-family": "Anonymous Pro"
       },
       "h1": {
        "color": "c5cc3653-2ee1-402a-aba2-7caae1da4f6c",
        "font-family": "Lato",
        "font-size": 8
       },
       "h2": {
        "color": "c5cc3653-2ee1-402a-aba2-7caae1da4f6c",
        "font-family": "Lato",
        "font-size": 6
       },
       "h3": {
        "color": "50f92c45-a630-455b-aec3-788680ec7410",
        "font-family": "Lato",
        "font-size": 5.5
       },
       "h4": {
        "color": "c5cc3653-2ee1-402a-aba2-7caae1da4f6c",
        "font-family": "Lato",
        "font-size": 5
       },
       "h5": {
        "font-family": "Lato"
       },
       "h6": {
        "font-family": "Lato"
       },
       "h7": {
        "font-family": "Lato"
       },
       "pre": {
        "font-family": "Anonymous Pro",
        "font-size": 4
       }
      },
      "text-base": {
       "font-family": "Merriweather",
       "font-size": 4
      }
     },
     "5fc8ef5c-fd2e-44bc-abe5-03ac095c0da0": {
      "backgrounds": {
       "backgroundColor": {
        "background-color": "backgroundColor",
        "id": "backgroundColor"
       }
      },
      "id": "5fc8ef5c-fd2e-44bc-abe5-03ac095c0da0",
      "palette": {
       "backgroundColor": {
        "id": "backgroundColor",
        "rgb": [
         247,
         243,
         222
        ]
       },
       "headingColor": {
        "id": "headingColor",
        "rgb": [
         51,
         51,
         51
        ]
       },
       "linkColor": {
        "id": "linkColor",
        "rgb": [
         139,
         116,
         61
        ]
       },
       "mainColor": {
        "id": "mainColor",
        "rgb": [
         51,
         51,
         51
        ]
       }
      },
      "rules": {
       "a": {
        "color": "linkColor"
       },
       "h1": {
        "color": "headingColor",
        "font-family": "Oswald",
        "font-size": 7
       },
       "h2": {
        "color": "headingColor",
        "font-family": "Oswald",
        "font-size": 5
       },
       "h3": {
        "color": "headingColor",
        "font-family": "Oswald",
        "font-size": 3.75
       },
       "h4": {
        "color": "headingColor",
        "font-family": "Oswald",
        "font-size": 3
       },
       "h5": {
        "color": "headingColor",
        "font-family": "Oswald"
       },
       "h6": {
        "color": "headingColor",
        "font-family": "Oswald"
       },
       "h7": {
        "color": "headingColor",
        "font-family": "Oswald"
       },
       "li": {
        "color": "mainColor",
        "font-family": "Lato",
        "font-size": 5
       },
       "p": {
        "color": "mainColor",
        "font-family": "Lato",
        "font-size": 5
       }
      },
      "text-base": {
       "color": "mainColor",
       "font-family": "Lato",
       "font-size": 5
      }
     },
     "759614f6-266e-416c-b431-147390329886": {
      "id": "759614f6-266e-416c-b431-147390329886",
      "palette": {
       "19cc588f-0593-49c9-9f4b-e4d7cc113b1c": {
        "id": "19cc588f-0593-49c9-9f4b-e4d7cc113b1c",
        "rgb": [
         252,
         252,
         252
        ]
       },
       "31af15d2-7e15-44c5-ab5e-e04b16a89eff": {
        "id": "31af15d2-7e15-44c5-ab5e-e04b16a89eff",
        "rgb": [
         68,
         68,
         68
        ]
       },
       "50f92c45-a630-455b-aec3-788680ec7410": {
        "id": "50f92c45-a630-455b-aec3-788680ec7410",
        "rgb": [
         155,
         177,
         192
        ]
       },
       "c5cc3653-2ee1-402a-aba2-7caae1da4f6c": {
        "id": "c5cc3653-2ee1-402a-aba2-7caae1da4f6c",
        "rgb": [
         43,
         126,
         184
        ]
       },
       "efa7f048-9acb-414c-8b04-a26811511a21": {
        "id": "efa7f048-9acb-414c-8b04-a26811511a21",
        "rgb": [
         25.118061674008803,
         73.60176211453744,
         107.4819383259912
        ]
       }
      },
      "rules": {
       "blockquote": {
        "color": "50f92c45-a630-455b-aec3-788680ec7410"
       },
       "code": {
        "font-family": "Anonymous Pro"
       },
       "h1": {
        "color": "c5cc3653-2ee1-402a-aba2-7caae1da4f6c",
        "font-family": "Lato",
        "font-size": 8
       },
       "h2": {
        "color": "c5cc3653-2ee1-402a-aba2-7caae1da4f6c",
        "font-family": "Lato",
        "font-size": 6
       },
       "h3": {
        "color": "50f92c45-a630-455b-aec3-788680ec7410",
        "font-family": "Lato",
        "font-size": 5.5
       },
       "h4": {
        "color": "c5cc3653-2ee1-402a-aba2-7caae1da4f6c",
        "font-family": "Lato",
        "font-size": 5
       },
       "h5": {
        "font-family": "Lato"
       },
       "h6": {
        "font-family": "Lato"
       },
       "h7": {
        "font-family": "Lato"
       },
       "pre": {
        "font-family": "Anonymous Pro",
        "font-size": 4
       }
      },
      "text-base": {
       "font-family": "Merriweather",
       "font-size": 4
      }
     },
     "91945138-ab69-4285-9f6b-a53deae2f67c": {
      "id": "91945138-ab69-4285-9f6b-a53deae2f67c",
      "palette": {
       "19cc588f-0593-49c9-9f4b-e4d7cc113b1c": {
        "id": "19cc588f-0593-49c9-9f4b-e4d7cc113b1c",
        "rgb": [
         252,
         252,
         252
        ]
       },
       "31af15d2-7e15-44c5-ab5e-e04b16a89eff": {
        "id": "31af15d2-7e15-44c5-ab5e-e04b16a89eff",
        "rgb": [
         68,
         68,
         68
        ]
       },
       "50f92c45-a630-455b-aec3-788680ec7410": {
        "id": "50f92c45-a630-455b-aec3-788680ec7410",
        "rgb": [
         155,
         177,
         192
        ]
       },
       "c5cc3653-2ee1-402a-aba2-7caae1da4f6c": {
        "id": "c5cc3653-2ee1-402a-aba2-7caae1da4f6c",
        "rgb": [
         43,
         126,
         184
        ]
       },
       "efa7f048-9acb-414c-8b04-a26811511a21": {
        "id": "efa7f048-9acb-414c-8b04-a26811511a21",
        "rgb": [
         25.118061674008803,
         73.60176211453744,
         107.4819383259912
        ]
       }
      },
      "rules": {
       "blockquote": {
        "color": "50f92c45-a630-455b-aec3-788680ec7410"
       },
       "code": {
        "font-family": "Anonymous Pro"
       },
       "h1": {
        "color": "c5cc3653-2ee1-402a-aba2-7caae1da4f6c",
        "font-family": "Lato",
        "font-size": 8
       },
       "h2": {
        "color": "c5cc3653-2ee1-402a-aba2-7caae1da4f6c",
        "font-family": "Lato",
        "font-size": 6
       },
       "h3": {
        "color": "50f92c45-a630-455b-aec3-788680ec7410",
        "font-family": "Lato",
        "font-size": 5.5
       },
       "h4": {
        "color": "c5cc3653-2ee1-402a-aba2-7caae1da4f6c",
        "font-family": "Lato",
        "font-size": 5
       },
       "h5": {
        "font-family": "Lato"
       },
       "h6": {
        "font-family": "Lato"
       },
       "h7": {
        "font-family": "Lato"
       },
       "pre": {
        "font-family": "Anonymous Pro",
        "font-size": 4
       }
      },
      "text-base": {
       "font-family": "Merriweather",
       "font-size": 4
      }
     },
     "92bf2d86-aaed-4a76-b339-698ab904de8d": {
      "backgrounds": {
       "backgroundColor": {
        "background-color": "backgroundColor",
        "id": "backgroundColor"
       }
      },
      "id": "92bf2d86-aaed-4a76-b339-698ab904de8d",
      "palette": {
       "backgroundColor": {
        "id": "backgroundColor",
        "rgb": [
         256,
         256,
         256
        ]
       },
       "headingColor": {
        "id": "headingColor",
        "rgb": [
         34,
         34,
         34
        ]
       },
       "linkColor": {
        "id": "linkColor",
        "rgb": [
         42,
         118,
         221
        ]
       },
       "mainColor": {
        "id": "mainColor",
        "rgb": [
         34,
         34,
         34
        ]
       }
      },
      "rules": {
       "a": {
        "color": "linkColor"
       },
       "h1": {
        "color": "headingColor",
        "font-family": "Source Sans Pro",
        "font-size": 5.25
       },
       "h2": {
        "color": "headingColor",
        "font-family": "Source Sans Pro",
        "font-size": 4
       },
       "h3": {
        "color": "headingColor",
        "font-family": "Source Sans Pro",
        "font-size": 3.5
       },
       "h4": {
        "color": "headingColor",
        "font-family": "Source Sans Pro",
        "font-size": 3
       },
       "h5": {
        "color": "headingColor",
        "font-family": "Source Sans Pro"
       },
       "h6": {
        "color": "headingColor",
        "font-family": "Source Sans Pro"
       },
       "h7": {
        "color": "headingColor",
        "font-family": "Source Sans Pro"
       },
       "li": {
        "color": "mainColor",
        "font-family": "Source Sans Pro",
        "font-size": 6
       },
       "p": {
        "color": "mainColor",
        "font-family": "Source Sans Pro",
        "font-size": 6
       }
      },
      "text-base": {
       "color": "mainColor",
       "font-family": "Source Sans Pro",
       "font-size": 6
      }
     },
     "c5c2c92b-23fb-4e0f-9400-02ff61f8b6b6": {
      "id": "c5c2c92b-23fb-4e0f-9400-02ff61f8b6b6",
      "palette": {
       "19cc588f-0593-49c9-9f4b-e4d7cc113b1c": {
        "id": "19cc588f-0593-49c9-9f4b-e4d7cc113b1c",
        "rgb": [
         252,
         252,
         252
        ]
       },
       "31af15d2-7e15-44c5-ab5e-e04b16a89eff": {
        "id": "31af15d2-7e15-44c5-ab5e-e04b16a89eff",
        "rgb": [
         68,
         68,
         68
        ]
       },
       "50f92c45-a630-455b-aec3-788680ec7410": {
        "id": "50f92c45-a630-455b-aec3-788680ec7410",
        "rgb": [
         155,
         177,
         192
        ]
       },
       "c5cc3653-2ee1-402a-aba2-7caae1da4f6c": {
        "id": "c5cc3653-2ee1-402a-aba2-7caae1da4f6c",
        "rgb": [
         43,
         126,
         184
        ]
       },
       "efa7f048-9acb-414c-8b04-a26811511a21": {
        "id": "efa7f048-9acb-414c-8b04-a26811511a21",
        "rgb": [
         25.118061674008803,
         73.60176211453744,
         107.4819383259912
        ]
       }
      },
      "rules": {
       "blockquote": {
        "color": "50f92c45-a630-455b-aec3-788680ec7410"
       },
       "code": {
        "font-family": "Anonymous Pro"
       },
       "h1": {
        "color": "c5cc3653-2ee1-402a-aba2-7caae1da4f6c",
        "font-family": "Lato",
        "font-size": 8
       },
       "h2": {
        "color": "c5cc3653-2ee1-402a-aba2-7caae1da4f6c",
        "font-family": "Lato",
        "font-size": 6
       },
       "h3": {
        "color": "50f92c45-a630-455b-aec3-788680ec7410",
        "font-family": "Lato",
        "font-size": 5.5
       },
       "h4": {
        "color": "c5cc3653-2ee1-402a-aba2-7caae1da4f6c",
        "font-family": "Lato",
        "font-size": 5
       },
       "h5": {
        "font-family": "Lato"
       },
       "h6": {
        "font-family": "Lato"
       },
       "h7": {
        "font-family": "Lato"
       },
       "pre": {
        "font-family": "Anonymous Pro",
        "font-size": 4
       }
      },
      "text-base": {
       "font-family": "Merriweather",
       "font-size": 4
      }
     },
     "fafcd050-cc82-42fd-b39f-ab2e7adac7c0": {
      "backgrounds": {
       "backgroundColor": {
        "background-color": "backgroundColor",
        "id": "backgroundColor"
       }
      },
      "id": "fafcd050-cc82-42fd-b39f-ab2e7adac7c0",
      "palette": {
       "backgroundColor": {
        "id": "backgroundColor",
        "rgb": [
         43,
         43,
         43
        ]
       },
       "headingColor": {
        "id": "headingColor",
        "rgb": [
         238,
         238,
         238
        ]
       },
       "linkColor": {
        "id": "linkColor",
        "rgb": [
         19,
         218,
         236
        ]
       },
       "mainColor": {
        "id": "mainColor",
        "rgb": [
         238,
         238,
         238
        ]
       }
      },
      "rules": {
       "a": {
        "color": "linkColor"
       },
       "h1": {
        "color": "headingColor",
        "font-family": "Oswald",
        "font-size": 7
       },
       "h2": {
        "color": "headingColor",
        "font-family": "Oswald",
        "font-size": 5
       },
       "h3": {
        "color": "headingColor",
        "font-family": "Oswald",
        "font-size": 3.75
       },
       "h4": {
        "color": "headingColor",
        "font-family": "Oswald",
        "font-size": 3
       },
       "h5": {
        "color": "headingColor",
        "font-family": "Oswald"
       },
       "h6": {
        "color": "headingColor",
        "font-family": "Oswald"
       },
       "h7": {
        "color": "headingColor",
        "font-family": "Oswald"
       },
       "li": {
        "color": "mainColor",
        "font-family": "Lato",
        "font-size": 5
       },
       "p": {
        "color": "mainColor",
        "font-family": "Lato",
        "font-size": 5
       }
      },
      "text-base": {
       "color": "mainColor",
       "font-family": "Lato",
       "font-size": 5
      }
     }
    }
   }
  }
 },
 "nbformat": 4,
 "nbformat_minor": 2
}
